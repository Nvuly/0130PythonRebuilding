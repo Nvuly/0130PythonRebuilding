{
 "cells": [
  {
   "cell_type": "code",
   "execution_count": 1,
   "metadata": {},
   "outputs": [],
   "source": [
    "import pandas as pd\n",
    "import numpy as np\n",
    "import matplotlib.pyplot as plt\n",
    "import seaborn as sns\n",
    "import requests\n",
    "import os\n",
    "import random"
   ]
  },
  {
   "cell_type": "code",
   "execution_count": 2,
   "metadata": {},
   "outputs": [
    {
     "name": "stdout",
     "output_type": "stream",
     "text": [
      "3번 반복해보자!\n",
      "3번 반복해보자!\n",
      "3번 반복해보자!\n"
     ]
    }
   ],
   "source": [
    "def print_n_times(value, n=3) :\n",
    "    for i in range(n):\n",
    "        print(value)\n",
    "        \n",
    "print_n_times('3번 반복해보자!')"
   ]
  },
  {
   "cell_type": "code",
   "execution_count": 3,
   "metadata": {},
   "outputs": [
    {
     "name": "stdout",
     "output_type": "stream",
     "text": [
      "안녕!\n",
      "바보야!\n",
      "에이이잉\n",
      "\n",
      "안녕!\n",
      "바보야!\n",
      "에이이잉\n",
      "\n"
     ]
    }
   ],
   "source": [
    "def print_n_times(*values, n=2):\n",
    "    for i in range(n):\n",
    "        for value in values:\n",
    "            print(value)\n",
    "            \n",
    "        print()\n",
    "        \n",
    "print_n_times('안녕!', '바보야!', '에이이잉')"
   ]
  },
  {
   "cell_type": "code",
   "execution_count": 4,
   "metadata": {},
   "outputs": [
    {
     "name": "stdout",
     "output_type": "stream",
     "text": [
      "메롱\n",
      "\n",
      "메롱\n",
      "\n",
      "메롱\n",
      "\n"
     ]
    }
   ],
   "source": [
    "def meoseum(*values, n=3):\n",
    "    for i in range(n):\n",
    "        for value in values:\n",
    "            print(value)\n",
    "            \n",
    "        print()\n",
    "        \n",
    "meoseum('메롱')"
   ]
  },
  {
   "cell_type": "code",
   "execution_count": 5,
   "metadata": {},
   "outputs": [
    {
     "name": "stdout",
     "output_type": "stream",
     "text": [
      "1 x 1 = 1\t2 x 1 = 2\t3 x 1 = 3\t4 x 1 = 4\t5 x 1 = 5\t6 x 1 = 6\t7 x 1 = 7\t8 x 1 = 8\t9 x 1 = 9\t\n",
      "\n",
      "1 x 2 = 2\t2 x 2 = 4\t3 x 2 = 6\t4 x 2 = 8\t5 x 2 = 10\t6 x 2 = 12\t7 x 2 = 14\t8 x 2 = 16\t9 x 2 = 18\t\n",
      "\n",
      "1 x 3 = 3\t2 x 3 = 6\t3 x 3 = 9\t4 x 3 = 12\t5 x 3 = 15\t6 x 3 = 18\t7 x 3 = 21\t8 x 3 = 24\t9 x 3 = 27\t\n",
      "\n",
      "1 x 4 = 4\t2 x 4 = 8\t3 x 4 = 12\t4 x 4 = 16\t5 x 4 = 20\t6 x 4 = 24\t7 x 4 = 28\t8 x 4 = 32\t9 x 4 = 36\t\n",
      "\n",
      "1 x 5 = 5\t2 x 5 = 10\t3 x 5 = 15\t4 x 5 = 20\t5 x 5 = 25\t6 x 5 = 30\t7 x 5 = 35\t8 x 5 = 40\t9 x 5 = 45\t\n",
      "\n",
      "1 x 6 = 6\t2 x 6 = 12\t3 x 6 = 18\t4 x 6 = 24\t5 x 6 = 30\t6 x 6 = 36\t7 x 6 = 42\t8 x 6 = 48\t9 x 6 = 54\t\n",
      "\n",
      "1 x 7 = 7\t2 x 7 = 14\t3 x 7 = 21\t4 x 7 = 28\t5 x 7 = 35\t6 x 7 = 42\t7 x 7 = 49\t8 x 7 = 56\t9 x 7 = 63\t\n",
      "\n",
      "1 x 8 = 8\t2 x 8 = 16\t3 x 8 = 24\t4 x 8 = 32\t5 x 8 = 40\t6 x 8 = 48\t7 x 8 = 56\t8 x 8 = 64\t9 x 8 = 72\t\n",
      "\n",
      "1 x 9 = 9\t2 x 9 = 18\t3 x 9 = 27\t4 x 9 = 36\t5 x 9 = 45\t6 x 9 = 54\t7 x 9 = 63\t8 x 9 = 72\t9 x 9 = 81\t\n",
      "\n",
      "\n"
     ]
    }
   ],
   "source": [
    "for front in range(1,10):\n",
    "    for back in range(1,10):\n",
    "        print(back, 'x', front, \"=\", front*back, end='\\t')\n",
    "    print('\\n')\n",
    "print()"
   ]
  },
  {
   "cell_type": "code",
   "execution_count": 6,
   "metadata": {},
   "outputs": [
    {
     "name": "stdout",
     "output_type": "stream",
     "text": [
      "1 x 1 = 1\t2 x 1 = 2\t3 x 1 = 3\t4 x 1 = 4\t5 x 1 = 5\t6 x 1 = 6\t7 x 1 = 7\t8 x 1 = 8\t9 x 1 = 9\t\n",
      "\n",
      "1 x 2 = 2\t2 x 2 = 4\t3 x 2 = 6\t4 x 2 = 8\t5 x 2 = 10\t6 x 2 = 12\t7 x 2 = 14\t8 x 2 = 16\t9 x 2 = 18\t\n",
      "\n",
      "1 x 3 = 3\t2 x 3 = 6\t3 x 3 = 9\t4 x 3 = 12\t5 x 3 = 15\t6 x 3 = 18\t7 x 3 = 21\t8 x 3 = 24\t9 x 3 = 27\t\n",
      "\n",
      "1 x 4 = 4\t2 x 4 = 8\t3 x 4 = 12\t4 x 4 = 16\t5 x 4 = 20\t6 x 4 = 24\t7 x 4 = 28\t8 x 4 = 32\t9 x 4 = 36\t\n",
      "\n",
      "1 x 5 = 5\t2 x 5 = 10\t3 x 5 = 15\t4 x 5 = 20\t5 x 5 = 25\t6 x 5 = 30\t7 x 5 = 35\t8 x 5 = 40\t9 x 5 = 45\t\n",
      "\n",
      "1 x 6 = 6\t2 x 6 = 12\t3 x 6 = 18\t4 x 6 = 24\t5 x 6 = 30\t6 x 6 = 36\t7 x 6 = 42\t8 x 6 = 48\t9 x 6 = 54\t\n",
      "\n",
      "1 x 7 = 7\t2 x 7 = 14\t3 x 7 = 21\t4 x 7 = 28\t5 x 7 = 35\t6 x 7 = 42\t7 x 7 = 49\t8 x 7 = 56\t9 x 7 = 63\t\n",
      "\n",
      "1 x 8 = 8\t2 x 8 = 16\t3 x 8 = 24\t4 x 8 = 32\t5 x 8 = 40\t6 x 8 = 48\t7 x 8 = 56\t8 x 8 = 64\t9 x 8 = 72\t\n",
      "\n",
      "1 x 9 = 9\t2 x 9 = 18\t3 x 9 = 27\t4 x 9 = 36\t5 x 9 = 45\t6 x 9 = 54\t7 x 9 = 63\t8 x 9 = 72\t9 x 9 = 81\t\n",
      "\n"
     ]
    }
   ],
   "source": [
    "for i in range(1,10):\n",
    "    for j in range(1,10):\n",
    "        print(j, 'x', i, '=' , i*j, end='\\t')\n",
    "    print('\\n')\n"
   ]
  },
  {
   "cell_type": "code",
   "execution_count": 7,
   "metadata": {},
   "outputs": [
    {
     "name": "stdout",
     "output_type": "stream",
     "text": [
      "*\n",
      "**\n",
      "***\n",
      "***\n",
      "**\n",
      "*\n"
     ]
    }
   ],
   "source": [
    "for i in range(1,4):\n",
    "    for j in range(i):\n",
    "        print('*', end='')\n",
    "    print()\n",
    "    \n",
    "for i in range(3, 0, -1):\n",
    "    for j in range(i):\n",
    "        print('*', end='')\n",
    "    print()"
   ]
  },
  {
   "cell_type": "code",
   "execution_count": 8,
   "metadata": {},
   "outputs": [
    {
     "name": "stdout",
     "output_type": "stream",
     "text": [
      "5 + 2 = 7\n"
     ]
    }
   ],
   "source": [
    "def meoseum(su1, op, su2): #매개변수\n",
    "    result = 0\n",
    "    if op =='+':\n",
    "        result = su1+su2\n",
    "    elif op =='-':\n",
    "        result = su1-su2\n",
    "    elif op == '*':\n",
    "        result = su1*su2\n",
    "    elif op == '/':\n",
    "        result = su1/su2\n",
    "    else:\n",
    "        pass\n",
    "    return result #정의부\n",
    "\n",
    "su1,op,su2 = int(input('숫자: ')), input('부호 : '), int(input('숫자 : '))\n",
    "result = meoseum(su1, op, su2)\n",
    "if op == '+' or op == '-' or op =='*' or op=='/':\n",
    "    print(su1,op,su2, '=',result)\n",
    "else:\n",
    "    print('사칙연산만 가능합니다.')\n",
    "                                                            "
   ]
  },
  {
   "cell_type": "code",
   "execution_count": 9,
   "metadata": {},
   "outputs": [
    {
     "name": "stdout",
     "output_type": "stream",
     "text": [
      "plus = 30\n",
      "minus = -10\n",
      "plus = 150\n",
      "minu = 50\n",
      "2585179502352 2585144363728\n"
     ]
    }
   ],
   "source": [
    "# (3) 클래스 정의( p: 지역변수, self.x, self.y: 전역변수 )\n",
    "# 함수가 클래스 안에 들어있기 때문에 메서드라고 부른다.\n",
    "# 클래스는 여러가지 멤버들의 집합소\n",
    "class calc_class :\n",
    "    #클래스 변수 : 자료저장\n",
    "    x = y = 0 \n",
    "    \n",
    "    # 생성자 : 객체 생성 + 멤버변수 초기화\n",
    "    def __init__(self, a, b):\n",
    "        self.x = a #10\n",
    "        self.y = b #20\n",
    "        \n",
    "    #클래스 함수\n",
    "    def plus(self):\n",
    "        p = self.x + self.y #변수 연산\n",
    "        return p\n",
    "    \n",
    "    #클래스 함수\n",
    "    def minus(self):\n",
    "        m = self.x - self.y #변수 연산\n",
    "        return m\n",
    "    \n",
    "# (4) 객체 생성\n",
    "obj = calc_class(10, 20)\n",
    "\n",
    "# (5) 멤버 호출\n",
    "print('plus =', obj.plus()) # plus = 30\n",
    "print('minus =', obj.minus()) # minus = -10\n",
    "\n",
    "obj2 = calc_class(100, 50) #객체생성2  \n",
    "print('plus =', obj2.plus())\n",
    "print('minu =', obj2.minus())\n",
    "\n",
    "print(id(obj), id(obj2))"
   ]
  },
  {
   "cell_type": "code",
   "execution_count": 10,
   "metadata": {},
   "outputs": [
    {
     "name": "stdout",
     "output_type": "stream",
     "text": [
      "~~객체 생성~~\n",
      "plus =  30\n",
      "minus = -10\n",
      "~~객체 생성~~\n",
      "plus =  160\n",
      "minus = -20\n"
     ]
    }
   ],
   "source": [
    "# 068.5일차-실습-2-해답\n",
    "# 클래스 정의\n",
    "class calc_class :\n",
    "    # 변수 선언\n",
    "    x = y = 0\n",
    "    # 생성자 : 객체 생성 + [멤버변수 초기화]\n",
    "    def __init__(self, a, b): #지역변수 _(underbar) 숨김메소드이면서 어쩌고저쩌고...몰라도됨\n",
    "        print('~~객체 생성~~')\n",
    "        self.x = a # 10\n",
    "        self.y = b # 20\n",
    "        # 클래스를 만들땐 생성자를 무조건 만들어준다.\n",
    "    # 멤버 함수(기능)\n",
    "    def plus(self): # self : 멤버(변수+함수) 참조 객체\n",
    "        p = self.x + self.y\n",
    "        '''\n",
    "        p : 지역변수\n",
    "        self.x, self.y : 전역변수  \n",
    "        '''\n",
    "        return p\n",
    "    def minus(self):\n",
    "        m = self.x - self.y\n",
    "        return m\n",
    "# class(1) -> object(n) 생성\n",
    "obj1 = calc_class(10, 20) # 생성자 -> 객체1  \n",
    "# object.member()  \n",
    "print('plus = ', obj1.plus()) # plus =  30\n",
    "print('minus =', obj1.minus()) # minus = -10\n",
    "#\n",
    "obj03 = calc_class(70,90)\n",
    "print('plus = ', obj03.plus())\n",
    "print('minus =', obj03.minus())"
   ]
  },
  {
   "cell_type": "code",
   "execution_count": 33,
   "metadata": {},
   "outputs": [
    {
     "ename": "SyntaxError",
     "evalue": "unterminated string literal (detected at line 12) (4116797893.py, line 12)",
     "output_type": "error",
     "traceback": [
      "\u001b[1;36m  Cell \u001b[1;32mIn[33], line 12\u001b[1;36m\u001b[0m\n\u001b[1;33m    print('자동차는 %d cc이고, 문짝은 %d개, 타입은 %s\"\u001b[0m\n\u001b[1;37m          ^\u001b[0m\n\u001b[1;31mSyntaxError\u001b[0m\u001b[1;31m:\u001b[0m unterminated string literal (detected at line 12)\n"
     ]
    }
   ],
   "source": [
    "class Car:\n",
    "    cc = 0 #엔진 cc\n",
    "    door = 0 #문짝 개수\n",
    "    carType = None # null\n",
    "    \n",
    "    def __init__(self, cc, door, carType):\n",
    "        self.cc = cc\n",
    "        self.door = door\n",
    "        self.carType = carType\n",
    "        \n",
    "    def display(self):\n",
    "        print('자동차는 %d cc이고, 문짝은 %d개, 타입은 %s\"  \n",
    "              % (self.cc, self.door, self.carType))\n",
    "\n",
    "car1 = Car(2000,4,'승용차')\n",
    "\n",
    "car2  = Car(3000, 5, 'SUV')\n",
    "\n",
    "car1.display()\n",
    "car2.display()"
   ]
  },
  {
   "cell_type": "code",
   "execution_count": 12,
   "metadata": {},
   "outputs": [
    {
     "name": "stdout",
     "output_type": "stream",
     "text": [
      "객체 생성\n",
      "plus =  30\n",
      "minus =  -10\n",
      "객체 생성\n",
      "plus = 160\n",
      "minus = -20\n"
     ]
    }
   ],
   "source": [
    "class calc_class:#객체가 만들어짐\n",
    "    x=y=0\n",
    "    \n",
    "    def __init__(self,a,b):\n",
    "        print('객체 생성')\n",
    "        self.x = a\n",
    "        self.y = b\n",
    "        \n",
    "    def plus(self):\n",
    "        p = self.x + self.y\n",
    "        return p\n",
    "    # p 지역변수 self.x self.y 전역변수\n",
    "    \n",
    "    def minus(self):\n",
    "        m = self.x - self.y\n",
    "        return m\n",
    "    \n",
    "obj1 = calc_class(10, 20) # 인스턴스\n",
    "\n",
    "print('plus = ', obj1.plus())\n",
    "print('minus = ', obj1.minus())\n",
    "\n",
    "obj03 = calc_class(70, 90) # 객체가 만들어짐\n",
    "print('plus =', obj03.plus())\n",
    "print('minus =', obj03.minus())"
   ]
  },
  {
   "cell_type": "code",
   "execution_count": 21,
   "metadata": {},
   "outputs": [
    {
     "name": "stdout",
     "output_type": "stream",
     "text": [
      "객체 생성\n",
      "plus =  30\n",
      "minus =  -10\n",
      "********************************************************************************\n",
      "객체 생성\n",
      "plus = 160\n",
      "minus = -20\n",
      "********************************************************************************\n",
      "객체 생성\n",
      "plus = 250\n",
      "minus =  150\n",
      "********************************************************************************\n"
     ]
    }
   ],
   "source": [
    "class calc_class:#객체가 만들어짐\n",
    "    x=y=0\n",
    "    \n",
    "    def __init__(self,a,b):\n",
    "        print('객체 생성')\n",
    "        self.x = a\n",
    "        self.y = b\n",
    "        \n",
    "    def plus(self):\n",
    "        p = self.x + self.y\n",
    "        return p\n",
    "    # p 지역변수 self.x self.y 전역변수와 비슷한 성격을 갖고 있는 멤버변수\n",
    "    \n",
    "    def minus(self):\n",
    "        m = self.x - self.y\n",
    "        return m\n",
    "    \n",
    "obj1 = calc_class(10, 20) # 인스턴스\n",
    "\n",
    "print('plus = ', obj1.plus())\n",
    "print('minus = ', obj1.minus())\n",
    "\n",
    "print('*'*80)\n",
    "\n",
    "obj03 = calc_class(70, 90) # 객체가 만들어짐\n",
    "print('plus =', obj03.plus())\n",
    "print('minus =', obj03.minus())\n",
    "\n",
    "print('*'*80)\n",
    "\n",
    "#(가) \n",
    "\n",
    "obj02 = calc_class(0, 0)\n",
    "obj02.x= 200\n",
    "obj02.y= 50\n",
    "\n",
    "print('plus =', obj02.plus())\n",
    "print('minus = ', obj02.minus())\n",
    "\n",
    "print('*'*80)\n"
   ]
  },
  {
   "cell_type": "code",
   "execution_count": null,
   "metadata": {},
   "outputs": [],
   "source": [
    "# <069일차-실습-1-해답-소스코드-ver2>\n",
    "# 069일차-실습-1-해답-ver2\n",
    "# 클래스 정의\n",
    "class calc_class :\n",
    "    x = y = 0   # 멤버변수 선언 ('멤버' 의 뜻을 정확히 이해할 필요 있음)\n",
    "    #\n",
    "    def __init__(self, a, b): # 생성자 : 객체 생성 + [멤버변수 초기화]\n",
    "        print('~~객체 생성~~')\n",
    "        self.x = a # 10\n",
    "        self.y = b # 20\n",
    "    # \n",
    "    def plus(self): # 멤버 메서드 / self : 멤버(변수+함수) 참조 객체\n",
    "        p = self.x + self.y\n",
    "        '''\n",
    "        p : 지역변수의 개념임\n",
    "        self.x, self.y : 전역변수의 개념(전역변수는 아니며 전역변수와 비슷한 역할을 한다는 뜻)  \n",
    "        '''\n",
    "        return p\n",
    "    #\n",
    "    def minus(self):\n",
    "        m = self.x - self.y\n",
    "        return m\n",
    "# class(1) -> object(n) 생성\n",
    "obj1 = calc_class(10, 20) # 생성자 -> 객체1  -> 참조변수\n",
    "#\n",
    "print('plus = ', obj1.plus()) # plus =  30\n",
    "print('minus =', obj1.minus()) # minus = -10\n",
    "#\n",
    "# class(2) -> object(n) 생성 : n 번째의 뜻 \n",
    "obj03 = calc_class(70,90) # 참조변수\n",
    "print('plus = ', obj03.plus())\n",
    "print('minus =', obj03.minus())\n",
    "#\n",
    "# class(3) -> object(n) 생성 : n 번째의 뜻 \n",
    "obj2 = calc_class(0,0)  # 객체(object)를 만들고 객체의 주소를 obj2라는 참조변수에 할당함\n",
    "                        # 이 때 인수로 0,0 을 할당함\n",
    "print('obj2 type ---> ',type(obj2))\n",
    "print('obj2 addr ---> ',id(obj2))\n",
    "obj2.x = 200            # 객체의 맴버변수 x에 200을 할당함 \n",
    "obj2.y = 50             # 객체의 맴버변수 y에 50을 할당함\n",
    "print('plus = ', obj2.plus())\n",
    "print('minus =', obj2.minus())"
   ]
  },
  {
   "cell_type": "code",
   "execution_count": 34,
   "metadata": {},
   "outputs": [
    {
     "name": "stdout",
     "output_type": "stream",
     "text": [
      "자동차는 2000 cc이고, 문짝은 4개, 타입은 승용차\n",
      "자동차는 3000 cc이고, 문짝은 5개, 타입은 SUV\n"
     ]
    }
   ],
   "source": [
    "class Car:\n",
    "    cc = 0 #엔진 cc\n",
    "    door = 0 #문짝 개수\n",
    "    carType = None # null\n",
    "   \n",
    "    def __init__(self, cc, door, carType): #매개변수\n",
    "        self.cc = cc\n",
    "        self.door = door\n",
    "        self.carType = carType\n",
    "       \n",
    "    def display(self):\n",
    "        print('자동차는 %d cc이고, 문짝은 %d개, 타입은 %s' % (self.cc, self.door, self.carType))\n",
    "          # %d, %s 등을 서식문자라 칭함 정수              정수         문자열\n",
    "car1 = Car(2000,4,'승용차') #인수에 해당함\n",
    " \n",
    "car2  = Car(3000, 5, 'SUV')\n",
    " \n",
    "car1.display()\n",
    "car2.display()\n"
   ]
  },
  {
   "cell_type": "code",
   "execution_count": 41,
   "metadata": {},
   "outputs": [
    {
     "name": "stdout",
     "output_type": "stream",
     "text": [
      "곱셈 =  200\n"
     ]
    }
   ],
   "source": [
    "class Mul:\n",
    "    x=y=0\n",
    "    \n",
    "    def __init__(self, a, b):\n",
    "        self.x=a\n",
    "        self.y=b\n",
    "        \n",
    "    def Mul(self):\n",
    "        return self.x*self.y\n",
    "    \n",
    "obj = Mul(10,20) \n",
    "print('곱셈 = ', obj.Mul())                                                          "
   ]
  },
  {
   "cell_type": "code",
   "execution_count": null,
   "metadata": {},
   "outputs": [],
   "source": []
  }
 ],
 "metadata": {
  "kernelspec": {
   "display_name": "rollbackTarget",
   "language": "python",
   "name": "conda"
  },
  "language_info": {
   "codemirror_mode": {
    "name": "ipython",
    "version": 3
   },
   "file_extension": ".py",
   "mimetype": "text/x-python",
   "name": "python",
   "nbconvert_exporter": "python",
   "pygments_lexer": "ipython3",
   "version": "3.11.5"
  }
 },
 "nbformat": 4,
 "nbformat_minor": 2
}
