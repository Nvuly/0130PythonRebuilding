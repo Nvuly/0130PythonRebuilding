{
 "cells": [
  {
   "cell_type": "code",
   "execution_count": 4,
   "metadata": {},
   "outputs": [
    {
     "name": "stdout",
     "output_type": "stream",
     "text": [
      "자동차는 2000 cc이고, 문짝은 4 개, 타입은 승용차\n",
      "자동차는 3000 cc이고, 문짝은 5 개, 타입은 SUV\n"
     ]
    }
   ],
   "source": [
    "class Car: \n",
    "    cc = 0 #엔진cc\n",
    "    door = 0 #문짝 갯수\n",
    "    carType = None # null\n",
    "    \n",
    "    def __init__ (self, cc, door, carType):\n",
    "        self.cc = cc\n",
    "        self.door = door\n",
    "        self.carType = carType\n",
    "        \n",
    "    def display(self):\n",
    "        print('자동차는 %d cc이고, 문짝은 %d 개, 타입은 %s' % (self.cc, self.door, self.carType))\n",
    "        # %d, %s 등을 서식문자라 칭함. \n",
    "car1 = Car(2000, 4, '승용차')\n",
    "\n",
    "car2 = Car(3000, 5, 'SUV')\n",
    "\n",
    "car1.display()\n",
    "car2.display()\n"
   ]
  },
  {
   "cell_type": "code",
   "execution_count": 5,
   "metadata": {},
   "outputs": [
    {
     "name": "stdout",
     "output_type": "stream",
     "text": [
      "자동차는 2000cc이고, 문짝은 4개, 타입은 승용차\n",
      "자동차는 3000cc이고, 문짝은 5개, 타입은 SUV\n"
     ]
    }
   ],
   "source": [
    "class Car:\n",
    "    cc = 0\n",
    "    door = 0\n",
    "    carType = None \n",
    "    \n",
    "    def __init__ (self, cc, door, carType):\n",
    "        self.cc= cc\n",
    "        self.door = door\n",
    "        self.carType= carType\n",
    "        \n",
    "    def display(self):\n",
    "        print('자동차는 %dcc이고, 문짝은 %d개, 타입은 %s' % (self.cc, self.door, self.carType))\n",
    "        \n",
    "car1 = Car(2000, 4, '승용차')\n",
    "\n",
    "car2 = Car(3000, 5, 'SUV')\n",
    "\n",
    "car1.display()\n",
    "car2.display()"
   ]
  },
  {
   "cell_type": "code",
   "execution_count": null,
   "metadata": {},
   "outputs": [],
   "source": []
  }
 ],
 "metadata": {
  "kernelspec": {
   "display_name": "rollbackTarget",
   "language": "python",
   "name": "conda"
  },
  "language_info": {
   "codemirror_mode": {
    "name": "ipython",
    "version": 3
   },
   "file_extension": ".py",
   "mimetype": "text/x-python",
   "name": "python",
   "nbconvert_exporter": "python",
   "pygments_lexer": "ipython3",
   "version": "3.11.5"
  }
 },
 "nbformat": 4,
 "nbformat_minor": 2
}
