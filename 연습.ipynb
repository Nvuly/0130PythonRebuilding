{
 "cells": [
  {
   "cell_type": "code",
   "execution_count": 4,
   "metadata": {},
   "outputs": [
    {
     "name": "stdout",
     "output_type": "stream",
     "text": [
      "자동차는 2000 cc이고, 문짝은 4 개, 타입은 승용차\n",
      "자동차는 3000 cc이고, 문짝은 5 개, 타입은 SUV\n"
     ]
    }
   ],
   "source": [
    "class Car: \n",
    "    cc = 0 #엔진cc\n",
    "    door = 0 #문짝 갯수\n",
    "    carType = None # null\n",
    "    \n",
    "    def __init__ (self, cc, door, carType):\n",
    "        self.cc = cc\n",
    "        self.door = door\n",
    "        self.carType = carType\n",
    "        \n",
    "    def display(self):\n",
    "        print('자동차는 %d cc이고, 문짝은 %d 개, 타입은 %s' % (self.cc, self.door, self.carType))\n",
    "        # %d, %s 등을 서식문자라 칭함. \n",
    "car1 = Car(2000, 4, '승용차')\n",
    "\n",
    "car2 = Car(3000, 5, 'SUV')\n",
    "\n",
    "car1.display()\n",
    "car2.display()\n"
   ]
  },
  {
   "cell_type": "code",
   "execution_count": 5,
   "metadata": {},
   "outputs": [
    {
     "name": "stdout",
     "output_type": "stream",
     "text": [
      "자동차는 2000cc이고, 문짝은 4개, 타입은 승용차\n",
      "자동차는 3000cc이고, 문짝은 5개, 타입은 SUV\n"
     ]
    }
   ],
   "source": [
    "class Car:\n",
    "    cc = 0\n",
    "    door = 0\n",
    "    carType = None \n",
    "    \n",
    "    def __init__ (self, cc, door, carType):\n",
    "        self.cc= cc\n",
    "        self.door = door\n",
    "        self.carType= carType\n",
    "        \n",
    "    def display(self):\n",
    "        print('자동차는 %dcc이고, 문짝은 %d개, 타입은 %s' % (self.cc, self.door, self.carType))\n",
    "        \n",
    "car1 = Car(2000, 4, '승용차')\n",
    "\n",
    "car2 = Car(3000, 5, 'SUV')\n",
    "\n",
    "car1.display()\n",
    "car2.display()"
   ]
  },
  {
   "cell_type": "code",
   "execution_count": 22,
   "metadata": {},
   "outputs": [
    {
     "name": "stdout",
     "output_type": "stream",
     "text": [
      "********************************************************************************\n",
      "곱셈 =  200\n",
      "********************************************************************************\n",
      "곱셈 =  111111111\n"
     ]
    }
   ],
   "source": [
    "# (1) 생성자 이용 멤버변수 초기화\n",
    "class multiply :\n",
    "    #멤버 변수\n",
    "    x = y = 0\n",
    "    \n",
    "# 생성자 초기화\n",
    "    def __init__ (self, a, b): #객체만 생성\n",
    "        self.x = a\n",
    "        self.y = b\n",
    "    \n",
    "# 메서드\n",
    "    def mul(self):\n",
    "        return self.x * self.y\n",
    "\n",
    "print('*'*80)\n",
    "\n",
    "obj = multiply(10, 20)\n",
    "print('곱셈 = ', obj.mul())\n",
    "\n",
    "print('*'*80)\n",
    "\n",
    "obj2 = multiply(12345679,9)\n",
    "print('곱셈 = ', obj2.mul())"
   ]
  },
  {
   "cell_type": "code",
   "execution_count": 29,
   "metadata": {},
   "outputs": [
    {
     "name": "stdout",
     "output_type": "stream",
     "text": [
      "********************************************************************************\n",
      "곱셈 = 2000\n",
      "곱셈 = 2000\n"
     ]
    }
   ],
   "source": [
    "class multiply:\n",
    "    x=y=z=0 # 멤버변수\n",
    "    \n",
    "    #초기화\n",
    "    def __init__ (self, a, b,c):\n",
    "       self.x = a\n",
    "       self.y = b\n",
    "       \n",
    "    def mul3(self):\n",
    "        return self.x * self.y * self.x\n",
    "\n",
    "print('*'*80)\n",
    "\n",
    "obj = multiply(10, 20,10)\n",
    "print('곱셈 =', obj.mul3())\n",
    "\n",
    "obj2 = multiply(1234569,18,1)\n",
    "print('곱셈 =', obj.mul3())"
   ]
  },
  {
   "cell_type": "code",
   "execution_count": 1,
   "metadata": {},
   "outputs": [
    {
     "name": "stdout",
     "output_type": "stream",
     "text": [
      "나눗셈 :  2.0\n",
      "제곱 :  16\n"
     ]
    }
   ],
   "source": [
    "class Calc_class12:\n",
    "    num1 = num2 = 0\n",
    "    def member_clear(self,a,b):\n",
    "        self.x = a\n",
    "        self.y = b\n",
    "    def div(self):\n",
    "        return self.x / self.y\n",
    "    def squ(self):\n",
    "        return self.x ** self.y\n",
    "    \n",
    "obj = Calc_class12()\n",
    "obj.member_clear(int(input('정수를 입력하세요 : ')), int(input('정수를 입력하세요: ')))\n",
    "print('나눗셈 : ', obj.div())\n",
    "print('제곱 : ', obj.squ())"
   ]
  },
  {
   "cell_type": "code",
   "execution_count": 28,
   "metadata": {},
   "outputs": [
    {
     "name": "stdout",
     "output_type": "stream",
     "text": [
      "날짜 처리 클래스\n",
      "1995\n",
      "1995-10-25\n",
      "********************************************************************************\n",
      "날짜 처리 클래스\n",
      "1995년 10월 25일\n"
     ]
    }
   ],
   "source": [
    "class DatePro:\n",
    "    content = '날짜 처리 클래스' #객체의 멤버변수이자 클래스변수\n",
    "    \n",
    "    def __init__ (self, year, month, day):\n",
    "        self.year = year\n",
    "        self.month = month\n",
    "        self.day = day\n",
    "        \n",
    "    def display(self):\n",
    "        print('%d-%d-%d' % (self.year, self.month, self.day))\n",
    "        \n",
    "        print('*'*80)\n",
    "        \n",
    "    @classmethod\n",
    "    def date_string(cls, dateStr) :\n",
    "        cls.year = int(dateStr[:4])\n",
    "        cls.month = int(dateStr[4:6])\n",
    "        cls.day = int(dateStr[6:])\n",
    "        print(f'{cls.year}년 {cls.month}월 {cls.day}일')\n",
    "        \n",
    "date = DatePro(1995, 10, 25) #참조변수, 객체생성( 생성자호출 ) 참조변수(ex=obj)\n",
    "print(date.content) #Content와 year의 차이 구분할 것. date대신 DatePro를 넣어보면 차이점을 알 수 있음.\n",
    "print(date.year)\n",
    "date.display()\n",
    "    \n",
    "print(DatePro.content)\n",
    "#print (DatePro.year) #AttributeError\n",
    "DatePro.date_string('19951025') # 클래스명과 메서드명으로 호출 가능.\n",
    "\n",
    "# 클래스메소드를 쓰는가..\n",
    "# 객체를 생성하기 이전에도 쓸 수 있는 무언가 장치로서의 메서드가 필요하다고 분석을 해서 만들어놓은 백도어같은것."
   ]
  }
 ],
 "metadata": {
  "kernelspec": {
   "display_name": "rollbackTarget",
   "language": "python",
   "name": "conda"
  },
  "language_info": {
   "codemirror_mode": {
    "name": "ipython",
    "version": 3
   },
   "file_extension": ".py",
   "mimetype": "text/x-python",
   "name": "python",
   "nbconvert_exporter": "python",
   "pygments_lexer": "ipython3",
   "version": "3.11.5"
  }
 },
 "nbformat": 4,
 "nbformat_minor": 2
}
