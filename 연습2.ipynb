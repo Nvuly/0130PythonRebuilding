{
 "cells": [
  {
   "cell_type": "code",
   "execution_count": 1,
   "metadata": {},
   "outputs": [
    {
     "name": "stdout",
     "output_type": "stream",
     "text": [
      "name : 홍길동, job : 회사원\n",
      "name : 이순신, job : 해군 장군, gender : 남자\n"
     ]
    }
   ],
   "source": [
    "class Parent :\n",
    "    \n",
    "    def __init__(self, name, job):\n",
    "        self.name = name\n",
    "        self.job = job\n",
    "        \n",
    "    def display(self):\n",
    "        print('name : %s, job : %s' % (self.name, self.job))\n",
    "        \n",
    "p = Parent('홍길동', '회사원')\n",
    "p.display()\n",
    "\n",
    "class Children(Parent):\n",
    "    gender=None\n",
    "    \n",
    "    def __init__(self, name, job, gender):\n",
    "        self.name = name\n",
    "        self.job = job\n",
    "        self. gender = gender\n",
    "        \n",
    "    def display(self):\n",
    "        print('name : %s, job : %s, gender : %s' % (self.name, self.job, self.gender))\n",
    "        \n",
    "chil = Children('이순신', '해군 장군', '남자')\n",
    "chil.display()"
   ]
  },
  {
   "cell_type": "code",
   "execution_count": null,
   "metadata": {},
   "outputs": [],
   "source": [
    "class Calc_class:\n",
    "    x = y = 0\n",
    "    \n",
    "    def __init__(self,a,b):\n",
    "        self.x = a\n",
    "        self.y = b\n",
    "        \n",
    "    def div(self):\n",
    "        if self.x == 0 or self.y == 0:\n",
    "            return '나눗셈 연산은 0으로 나누기가 불가능합니다. 다시 입력하세요.'\n",
    "        else:\n",
    "            return self.x / self.y\n",
    "        \n",
    "    def squ(self):\n",
    "        return self.x ** self.y"
   ]
  },
  {
   "cell_type": "code",
   "execution_count": 7,
   "metadata": {},
   "outputs": [
    {
     "name": "stdout",
     "output_type": "stream",
     "text": [
      "총 수령액 :  3,200,000 원\n",
      "총 수령액 :  1,200,000 원\n",
      "총 수령액 :  3,360,000 원\n"
     ]
    }
   ],
   "source": [
    "class Employee:\n",
    "    name = None\n",
    "    pay = 0\n",
    "    \n",
    "    def __init__(self, name):\n",
    "        self.name = name\n",
    "        \n",
    "    def pay_calc(self):\n",
    "        pass\n",
    "    \n",
    "class Permanent (Employee):\n",
    "    def __init__(self, name):\n",
    "        self.name= name\n",
    "        \n",
    "    def pay_calc(self, base, bonus):\n",
    "        self.pay = base + bonus\n",
    "        print('총 수령액 : ', format(self.pay, '3,d'), '원')\n",
    "        \n",
    "class Temporary(Employee):\n",
    "    def __init__(self,name):\n",
    "        self.name = name\n",
    "        \n",
    "    def pay_calc(self, tpay, time):\n",
    "        self.pay = tpay * time\n",
    "        print('총 수령액 : ',format(self.pay, '3,d'), '원')\n",
    "        \n",
    "class Alba(Employee):\n",
    "    def __init__(self, name):\n",
    "        self.name = name\n",
    "        \n",
    "    def pay_calc(self, tpay, time):\n",
    "        self.pay = tpay * time\n",
    "        if time >= 160:\n",
    "            self.pay = tpay * time + 8 * tpay\n",
    "        else:\n",
    "            self.pay = tpay * time\n",
    "            \n",
    "        print(f'총 수령액 : ', format(self.pay, '3,d'), '원')\n",
    "        \n",
    "        \n",
    "p = Permanent('이순신')\n",
    "p.pay_calc(3000000, 200000)\n",
    "\n",
    "t = Temporary('홍길동')\n",
    "t.pay_calc(15000, 80)\n",
    "\n",
    "a = Alba('김형경')\n",
    "a.pay_calc(20000, 160)\n"
   ]
  },
  {
   "cell_type": "code",
   "execution_count": 10,
   "metadata": {},
   "outputs": [
    {
     "name": "stdout",
     "output_type": "stream",
     "text": [
      "name : 부모, age : 55\n",
      "name : 자식, age : 25, gender : 여자\n"
     ]
    }
   ],
   "source": [
    "class Super :\n",
    "    \n",
    "    def __init__(self, name, age):\n",
    "        self.name = name\n",
    "        self.age = age\n",
    "        \n",
    "    def display(self):\n",
    "        print('name : %s, age : %d' % (self.name, self.age))\n",
    "        \n",
    "sup = Super('부모', 55)\n",
    "sup.display()\n",
    "\n",
    "class Sub(Super):\n",
    "    gender = None\n",
    "    \n",
    "    def __init__(self, name, age, gender):\n",
    "        self.name = name\n",
    "        self.age = age\n",
    "        self.gender = gender\n",
    "        \n",
    "    def display(self):\n",
    "        print('name : %s, age : %d, gender : %s' % (self.name, self.age, self.gender))\n",
    "        \n",
    "sub = Sub('자식', 25, '여자')\n",
    "sub.display()"
   ]
  },
  {
   "cell_type": "code",
   "execution_count": 15,
   "metadata": {},
   "outputs": [
    {
     "name": "stdout",
     "output_type": "stream",
     "text": [
      "계좌정보 :  1000\n",
      "계좌정보 :  (11000, '홍길동', '125-152-4125-41')\n"
     ]
    }
   ],
   "source": [
    "class Account:\n",
    "    __balance = 0 # 잔액\n",
    "    __accName = None # 예금주\n",
    "    __accNo = None # 계좌번호\n",
    "    \n",
    "    def __init__(self, bal, name, no):\n",
    "        self.__balance = bal # 잔액초기화\n",
    "        self.__accName= name # 예금주\n",
    "        self.__accNo = no # 계좌번호\n",
    "        \n",
    "    # Getter 메서드\n",
    "    def getBalance(self):\n",
    "        return self.__balance, self.__accName, self.__accNo\n",
    "    \n",
    "    # Setter\n",
    "    def deposit(self,money):\n",
    "        if money < 0 :\n",
    "            print('금액 확인')\n",
    "            return\n",
    "        self.__balance += money\n",
    "        \n",
    "    def withdraw(self, money):\n",
    "        if self.__balance < money : ##<<<<<<<<<<<<<<<<<<<<<<< 은닉이 풀린건가요?\n",
    "            print('잔액 부족')\n",
    "            return\n",
    "        self.__balance -= money\n",
    "#object        \n",
    "acc = Account (1000, '홍길동', '125-152-4125-41')\n",
    "\n",
    "#getter\n",
    "bal = acc._Account__balance\n",
    "print('계좌정보 : ', bal)\n",
    "\n",
    "#setter\n",
    "acc.deposit(10000)\n",
    "bal = acc.getBalance()\n",
    "print('계좌정보 : ', bal)"
   ]
  }
 ],
 "metadata": {
  "kernelspec": {
   "display_name": "rollbackTarget",
   "language": "python",
   "name": "conda"
  },
  "language_info": {
   "codemirror_mode": {
    "name": "ipython",
    "version": 3
   },
   "file_extension": ".py",
   "mimetype": "text/x-python",
   "name": "python",
   "nbconvert_exporter": "python",
   "pygments_lexer": "ipython3",
   "version": "3.11.5"
  }
 },
 "nbformat": 4,
 "nbformat_minor": 2
}
