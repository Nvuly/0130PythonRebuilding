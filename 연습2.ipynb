{
 "cells": [
  {
   "cell_type": "code",
   "execution_count": 1,
   "metadata": {},
   "outputs": [
    {
     "name": "stdout",
     "output_type": "stream",
     "text": [
      "name : 홍길동, job : 회사원\n",
      "name : 이순신, job : 해군 장군, gender : 남자\n"
     ]
    }
   ],
   "source": [
    "class Parent :\n",
    "    \n",
    "    def __init__(self, name, job):\n",
    "        self.name = name\n",
    "        self.job = job\n",
    "        \n",
    "    def display(self):\n",
    "        print('name : %s, job : %s' % (self.name, self.job))\n",
    "        \n",
    "p = Parent('홍길동', '회사원')\n",
    "p.display()\n",
    "\n",
    "class Children(Parent):\n",
    "    gender=None\n",
    "    \n",
    "    def __init__(self, name, job, gender):\n",
    "        self.name = name\n",
    "        self.job = job\n",
    "        self. gender = gender\n",
    "        \n",
    "    def display(self):\n",
    "        print('name : %s, job : %s, gender : %s' % (self.name, self.job, self.gender))\n",
    "        \n",
    "chil = Children('이순신', '해군 장군', '남자')\n",
    "chil.display()"
   ]
  },
  {
   "cell_type": "code",
   "execution_count": null,
   "metadata": {},
   "outputs": [],
   "source": [
    "class Calc_class:\n",
    "    x = y = 0\n",
    "    \n",
    "    def __init__(self,a,b):\n",
    "        self.x = a\n",
    "        self.y = b\n",
    "        \n",
    "    def div(self):\n",
    "        if self.x == 0 or self.y == 0:\n",
    "            return '나눗셈 연산은 0으로 나누기가 불가능합니다. 다시 입력하세요.'\n",
    "        else:\n",
    "            return self.x / self.y\n",
    "        \n",
    "    def squ(self):\n",
    "        return self.x ** self.y"
   ]
  },
  {
   "cell_type": "code",
   "execution_count": 7,
   "metadata": {},
   "outputs": [
    {
     "name": "stdout",
     "output_type": "stream",
     "text": [
      "총 수령액 :  3,200,000 원\n",
      "총 수령액 :  1,200,000 원\n",
      "총 수령액 :  3,360,000 원\n"
     ]
    }
   ],
   "source": [
    "class Employee:\n",
    "    name = None\n",
    "    pay = 0\n",
    "    \n",
    "    def __init__(self, name):\n",
    "        self.name = name\n",
    "        \n",
    "    def pay_calc(self):\n",
    "        pass\n",
    "    \n",
    "class Permanent (Employee):\n",
    "    def __init__(self, name):\n",
    "        self.name= name\n",
    "        \n",
    "    def pay_calc(self, base, bonus):\n",
    "        self.pay = base + bonus\n",
    "        print('총 수령액 : ', format(self.pay, '3,d'), '원')\n",
    "        \n",
    "class Temporary(Employee):\n",
    "    def __init__(self,name):\n",
    "        self.name = name\n",
    "        \n",
    "    def pay_calc(self, tpay, time):\n",
    "        self.pay = tpay * time\n",
    "        print('총 수령액 : ',format(self.pay, '3,d'), '원')\n",
    "        \n",
    "class Alba(Employee):\n",
    "    def __init__(self, name):\n",
    "        self.name = name\n",
    "        \n",
    "    def pay_calc(self, tpay, time):\n",
    "        self.pay = tpay * time\n",
    "        if time >= 160:\n",
    "            self.pay = tpay * time + 8 * tpay\n",
    "        else:\n",
    "            self.pay = tpay * time\n",
    "            \n",
    "        print(f'총 수령액 : ', format(self.pay, '3,d'), '원')\n",
    "        \n",
    "        \n",
    "p = Permanent('이순신')\n",
    "p.pay_calc(3000000, 200000)\n",
    "\n",
    "t = Temporary('홍길동')\n",
    "t.pay_calc(15000, 80)\n",
    "\n",
    "a = Alba('김형경')\n",
    "a.pay_calc(20000, 160)\n"
   ]
  },
  {
   "cell_type": "code",
   "execution_count": 10,
   "metadata": {},
   "outputs": [
    {
     "name": "stdout",
     "output_type": "stream",
     "text": [
      "name : 부모, age : 55\n",
      "name : 자식, age : 25, gender : 여자\n"
     ]
    }
   ],
   "source": [
    "class Super :\n",
    "    \n",
    "    def __init__(self, name, age):\n",
    "        self.name = name\n",
    "        self.age = age\n",
    "        \n",
    "    def display(self):\n",
    "        print('name : %s, age : %d' % (self.name, self.age))\n",
    "        \n",
    "sup = Super('부모', 55)\n",
    "sup.display()\n",
    "\n",
    "class Sub(Super):\n",
    "    gender = None\n",
    "    \n",
    "    def __init__(self, name, age, gender):\n",
    "        self.name = name\n",
    "        self.age = age\n",
    "        self.gender = gender\n",
    "        \n",
    "    def display(self):\n",
    "        print('name : %s, age : %d, gender : %s' % (self.name, self.age, self.gender))\n",
    "        \n",
    "sub = Sub('자식', 25, '여자')\n",
    "sub.display()"
   ]
  },
  {
   "cell_type": "code",
   "execution_count": 15,
   "metadata": {},
   "outputs": [
    {
     "name": "stdout",
     "output_type": "stream",
     "text": [
      "계좌정보 :  1000\n",
      "계좌정보 :  (11000, '홍길동', '125-152-4125-41')\n"
     ]
    }
   ],
   "source": [
    "class Account:\n",
    "    __balance = 0 # 잔액\n",
    "    __accName = None # 예금주\n",
    "    __accNo = None # 계좌번호\n",
    "    \n",
    "    def __init__(self, bal, name, no):\n",
    "        self.__balance = bal # 잔액초기화\n",
    "        self.__accName= name # 예금주\n",
    "        self.__accNo = no # 계좌번호\n",
    "        \n",
    "    # Getter 메서드\n",
    "    def getBalance(self):\n",
    "        return self.__balance, self.__accName, self.__accNo\n",
    "    \n",
    "    # Setter\n",
    "    def deposit(self,money):\n",
    "        if money < 0 :\n",
    "            print('금액 확인')\n",
    "            return\n",
    "        self.__balance += money\n",
    "        \n",
    "    def withdraw(self, money):\n",
    "        if self.__balance < money : ##<<<<<<<<<<<<<<<<<<<<<<< 은닉이 풀린건가요?\n",
    "            print('잔액 부족')\n",
    "            return\n",
    "        self.__balance -= money\n",
    "#object        \n",
    "acc = Account (1000, '홍길동', '125-152-4125-41')\n",
    "\n",
    "#getter\n",
    "bal = acc._Account__balance\n",
    "print('계좌정보 : ', bal)\n",
    "\n",
    "#setter\n",
    "acc.deposit(10000)\n",
    "bal = acc.getBalance()\n",
    "print('계좌정보 : ', bal)"
   ]
  },
  {
   "cell_type": "code",
   "execution_count": 4,
   "metadata": {},
   "outputs": [
    {
     "name": "stdout",
     "output_type": "stream",
     "text": [
      "총 수령액 : 3200000 \n",
      "총 수령액 : 1200000 \n",
      "총 수령액  3,360,000 원\n"
     ]
    }
   ],
   "source": [
    "class Employee:\n",
    "    name = None\n",
    "    pay=0\n",
    "    \n",
    "    def __init__(self, name):\n",
    "        self.name = name\n",
    "        \n",
    "    def pay_calc(self):\n",
    "        pass\n",
    "    \n",
    "class Permanent (Employee):\n",
    "    def __init__(self,name):\n",
    "        self.name= name\n",
    "        \n",
    "    def pay_calc(self, base, bonus):\n",
    "        self.pay = base + bonus\n",
    "        print('총 수령액 : %d ' % (self.pay))\n",
    "        \n",
    "class Temporary(Employee):\n",
    "    def __init__(self, name):\n",
    "        self.name = name\n",
    "        \n",
    "    def pay_calc(self, tpay, time):\n",
    "        self.pay = tpay * time\n",
    "        print('총 수령액 : %d ' % (self.pay))\n",
    "        \n",
    "class Alba(Employee):\n",
    "    def __init__(self, name):\n",
    "        self.name = name\n",
    "        \n",
    "    def pay_calc(self, tpay, time):\n",
    "        self.pay = tpay * time\n",
    "        if time >= 160 :\n",
    "            self.pay = tpay * time + 8 * tpay\n",
    "        else:\n",
    "            self.pay= tpay * time\n",
    "            \n",
    "        print(f'총 수령액 ' , format(self.pay, '3,d'), '원')\n",
    "        \n",
    "p = Permanent('이순신')\n",
    "p.pay_calc(3000000, 200000)\n",
    "\n",
    "t = Temporary('홍길동')\n",
    "t.pay_calc(15000, 80)\n",
    "    \n",
    "    \n",
    "a = Alba('김형경')\n",
    "a.pay_calc(20000, 160)"
   ]
  },
  {
   "cell_type": "code",
   "execution_count": 7,
   "metadata": {},
   "outputs": [
    {
     "name": "stdout",
     "output_type": "stream",
     "text": [
      "(1, 4, 6, 'final', 1)\n",
      "(('goods',),)\n",
      "table 있음\n"
     ]
    }
   ],
   "source": [
    "import pymysql\n",
    "\n",
    "print(pymysql.version_info)\n",
    "\n",
    "config = {\n",
    "    'host' : '127.0.0.1',\n",
    "    'user' : 'root',\n",
    "    'password' : 'root1234',\n",
    "    'database' : 'work',\n",
    "    'port' : 3306,\n",
    "    'charset' : 'utf8',\n",
    "    'use_unicode' : True }\n",
    "    \n",
    "try :\n",
    "    conn = pymysql.connect(**config)\n",
    "    cursor = conn.cursor()\n",
    "    \n",
    "    sql = 'show tables'\n",
    "    cursor.execute(sql)\n",
    "    tables = cursor.fetchall()\n",
    "    \n",
    "    print(tables)\n",
    "    if tables:\n",
    "        print('table 있음')\n",
    "    else:\n",
    "        print('table 없음')\n",
    "except Exception as e :\n",
    "    print('db error : ', e)\n",
    "    \n",
    "finally:\n",
    "    cursor.close()\n",
    "    conn.close()"
   ]
  },
  {
   "cell_type": "code",
   "execution_count": 8,
   "metadata": {},
   "outputs": [
    {
     "name": "stdout",
     "output_type": "stream",
     "text": [
      "db 연동 실패 :  unable to open database file\n"
     ]
    },
    {
     "ename": "Error",
     "evalue": "Already closed",
     "output_type": "error",
     "traceback": [
      "\u001b[1;31m---------------------------------------------------------------------------\u001b[0m",
      "\u001b[1;31mOperationalError\u001b[0m                          Traceback (most recent call last)",
      "Cell \u001b[1;32mIn[8], line 6\u001b[0m\n\u001b[0;32m      4\u001b[0m \u001b[38;5;28;01mtry\u001b[39;00m :\n\u001b[0;32m      5\u001b[0m     \u001b[38;5;66;03m# (1) db 연동 객체\u001b[39;00m\n\u001b[1;32m----> 6\u001b[0m     conn \u001b[38;5;241m=\u001b[39m sqlite3\u001b[38;5;241m.\u001b[39mconnect(\u001b[38;5;124m\"\u001b[39m\u001b[38;5;124mdata/sqlite_db\u001b[39m\u001b[38;5;124m\"\u001b[39m) \u001b[38;5;66;03m# db 생성 -> 연결 object\u001b[39;00m\n\u001b[0;32m      7\u001b[0m     \u001b[38;5;66;03m# sql 실행 객체\u001b[39;00m\n",
      "\u001b[1;31mOperationalError\u001b[0m: unable to open database file",
      "\nDuring handling of the above exception, another exception occurred:\n",
      "\u001b[1;31mInterfaceError\u001b[0m                            Traceback (most recent call last)",
      "Cell \u001b[1;32mIn[8], line 69\u001b[0m\n\u001b[0;32m     68\u001b[0m     \u001b[38;5;28mprint\u001b[39m(\u001b[38;5;124m'\u001b[39m\u001b[38;5;124mdb 연동 실패 : \u001b[39m\u001b[38;5;124m'\u001b[39m, e)\n\u001b[1;32m---> 69\u001b[0m     conn\u001b[38;5;241m.\u001b[39mrollback() \u001b[38;5;66;03m# 실행 취소\u001b[39;00m\n\u001b[0;32m     70\u001b[0m \u001b[38;5;28;01mfinally\u001b[39;00m:\n\u001b[0;32m     71\u001b[0m     \u001b[38;5;66;03m# object.close()\u001b[39;00m\n",
      "File \u001b[1;32mc:\\Users\\human\\anaconda3\\Lib\\site-packages\\pymysql\\connections.py:487\u001b[0m, in \u001b[0;36mConnection.rollback\u001b[1;34m(self)\u001b[0m\n\u001b[0;32m    481\u001b[0m \u001b[38;5;250m\u001b[39m\u001b[38;5;124;03m\"\"\"\u001b[39;00m\n\u001b[0;32m    482\u001b[0m \u001b[38;5;124;03mRoll back the current transaction.\u001b[39;00m\n\u001b[0;32m    483\u001b[0m \n\u001b[0;32m    484\u001b[0m \u001b[38;5;124;03mSee `Connection.rollback() <https://www.python.org/dev/peps/pep-0249/#rollback>`_\u001b[39;00m\n\u001b[0;32m    485\u001b[0m \u001b[38;5;124;03min the specification.\u001b[39;00m\n\u001b[0;32m    486\u001b[0m \u001b[38;5;124;03m\"\"\"\u001b[39;00m\n\u001b[1;32m--> 487\u001b[0m \u001b[38;5;28mself\u001b[39m\u001b[38;5;241m.\u001b[39m_execute_command(COMMAND\u001b[38;5;241m.\u001b[39mCOM_QUERY, \u001b[38;5;124m\"\u001b[39m\u001b[38;5;124mROLLBACK\u001b[39m\u001b[38;5;124m\"\u001b[39m)\n\u001b[0;32m    488\u001b[0m \u001b[38;5;28mself\u001b[39m\u001b[38;5;241m.\u001b[39m_read_ok_packet()\n",
      "File \u001b[1;32mc:\\Users\\human\\anaconda3\\Lib\\site-packages\\pymysql\\connections.py:840\u001b[0m, in \u001b[0;36mConnection._execute_command\u001b[1;34m(self, command, sql)\u001b[0m\n\u001b[0;32m    839\u001b[0m \u001b[38;5;28;01mif\u001b[39;00m \u001b[38;5;129;01mnot\u001b[39;00m \u001b[38;5;28mself\u001b[39m\u001b[38;5;241m.\u001b[39m_sock:\n\u001b[1;32m--> 840\u001b[0m     \u001b[38;5;28;01mraise\u001b[39;00m err\u001b[38;5;241m.\u001b[39mInterfaceError(\u001b[38;5;241m0\u001b[39m, \u001b[38;5;124m\"\u001b[39m\u001b[38;5;124m\"\u001b[39m)\n\u001b[0;32m    842\u001b[0m \u001b[38;5;66;03m# If the last query was unbuffered, make sure it finishes before\u001b[39;00m\n\u001b[0;32m    843\u001b[0m \u001b[38;5;66;03m# sending new commands\u001b[39;00m\n",
      "\u001b[1;31mInterfaceError\u001b[0m: (0, '')",
      "\nDuring handling of the above exception, another exception occurred:\n",
      "\u001b[1;31mError\u001b[0m                                     Traceback (most recent call last)",
      "Cell \u001b[1;32mIn[8], line 73\u001b[0m\n\u001b[0;32m     70\u001b[0m \u001b[38;5;28;01mfinally\u001b[39;00m:\n\u001b[0;32m     71\u001b[0m     \u001b[38;5;66;03m# object.close()\u001b[39;00m\n\u001b[0;32m     72\u001b[0m     cursor\u001b[38;5;241m.\u001b[39mclose()\n\u001b[1;32m---> 73\u001b[0m     conn\u001b[38;5;241m.\u001b[39mclose()\n",
      "File \u001b[1;32mc:\\Users\\human\\anaconda3\\Lib\\site-packages\\pymysql\\connections.py:409\u001b[0m, in \u001b[0;36mConnection.close\u001b[1;34m(self)\u001b[0m\n\u001b[0;32m    400\u001b[0m \u001b[38;5;250m\u001b[39m\u001b[38;5;124;03m\"\"\"\u001b[39;00m\n\u001b[0;32m    401\u001b[0m \u001b[38;5;124;03mSend the quit message and close the socket.\u001b[39;00m\n\u001b[0;32m    402\u001b[0m \n\u001b[1;32m   (...)\u001b[0m\n\u001b[0;32m    406\u001b[0m \u001b[38;5;124;03m:raise Error: If the connection is already closed.\u001b[39;00m\n\u001b[0;32m    407\u001b[0m \u001b[38;5;124;03m\"\"\"\u001b[39;00m\n\u001b[0;32m    408\u001b[0m \u001b[38;5;28;01mif\u001b[39;00m \u001b[38;5;28mself\u001b[39m\u001b[38;5;241m.\u001b[39m_closed:\n\u001b[1;32m--> 409\u001b[0m     \u001b[38;5;28;01mraise\u001b[39;00m err\u001b[38;5;241m.\u001b[39mError(\u001b[38;5;124m\"\u001b[39m\u001b[38;5;124mAlready closed\u001b[39m\u001b[38;5;124m\"\u001b[39m)\n\u001b[0;32m    410\u001b[0m \u001b[38;5;28mself\u001b[39m\u001b[38;5;241m.\u001b[39m_closed \u001b[38;5;241m=\u001b[39m \u001b[38;5;28;01mTrue\u001b[39;00m\n\u001b[0;32m    411\u001b[0m \u001b[38;5;28;01mif\u001b[39;00m \u001b[38;5;28mself\u001b[39m\u001b[38;5;241m.\u001b[39m_sock \u001b[38;5;129;01mis\u001b[39;00m \u001b[38;5;28;01mNone\u001b[39;00m:\n",
      "\u001b[1;31mError\u001b[0m: Already closed"
     ]
    }
   ],
   "source": []
  }
 ],
 "metadata": {
  "kernelspec": {
   "display_name": "rollbackTarget",
   "language": "python",
   "name": "conda"
  },
  "language_info": {
   "codemirror_mode": {
    "name": "ipython",
    "version": 3
   },
   "file_extension": ".py",
   "mimetype": "text/x-python",
   "name": "python",
   "nbconvert_exporter": "python",
   "pygments_lexer": "ipython3",
   "version": "3.11.5"
  }
 },
 "nbformat": 4,
 "nbformat_minor": 2
}
