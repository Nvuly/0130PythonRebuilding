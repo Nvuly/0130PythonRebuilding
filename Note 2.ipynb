{
 "cells": [
  {
   "cell_type": "markdown",
   "metadata": {},
   "source": [
    "## def"
   ]
  },
  {
   "cell_type": "code",
   "execution_count": 1,
   "metadata": {},
   "outputs": [],
   "source": [
    "import pandas as pd\n",
    "import numpy as np"
   ]
  },
  {
   "cell_type": "code",
   "execution_count": 2,
   "metadata": {},
   "outputs": [
    {
     "data": {
      "text/plain": [
       "'\\n\\ndef add(a, b) : # a, b는 매개변수 함수정의. 설계... 함수정의부의 params\\n    return a+b\\n\\nprint(add(3,4)) 함수 호출 3,4 인수... 함수 호출부의 argument\\n\\ncarculator라는 클래스에 부속되어 잇는 add라는 함수, 메소드\\n\\n----------------\\n\\n매개변수를 지정하여 호출하기\\n\\ndef sub(a, b):\\n     returm a - b\\n\\n'"
      ]
     },
     "execution_count": 2,
     "metadata": {},
     "output_type": "execute_result"
    }
   ],
   "source": [
    "'''\n",
    "\n",
    "def add(a, b) : # a, b는 매개변수 함수정의. 설계... 함수정의부의 params\n",
    "    return a+b\n",
    "\n",
    "print(add(3,4)) 함수 호출 3,4 인수... 함수 호출부의 argument\n",
    "\n",
    "carculator라는 클래스에 부속되어 잇는 add라는 함수, 메소드\n",
    "\n",
    "----------------\n",
    "\n",
    "매개변수를 지정하여 호출하기\n",
    "\n",
    "def sub(a, b):\n",
    "     returm a - b\n",
    "\n",
    "'''"
   ]
  },
  {
   "cell_type": "code",
   "execution_count": 3,
   "metadata": {},
   "outputs": [
    {
     "name": "stdout",
     "output_type": "stream",
     "text": [
      "<class 'tuple'>\n",
      "6\n",
      "********************************************************************************\n",
      "<class 'tuple'>\n",
      "55\n"
     ]
    }
   ],
   "source": [
    "def add_many(*args): # 매개변수를 tupe로 받으라는 규칙 : *args, IT분야에서 *은 여러 개의 자료형..\n",
    "    print(type(args))\n",
    "    result = 0\n",
    "    for i in args:\n",
    "        result = result + i # *args에 입력받은 모든 값을 더한다.\n",
    "    return result\n",
    "\n",
    "# iterator 반복자\n",
    "\n",
    "result = add_many(1,2,3)\n",
    "print(result)\n",
    "\n",
    "print('*'*80)\n",
    "\n",
    "result = add_many(1,2,3,4,5,6,7,8,9,10)\n",
    "print(result)"
   ]
  },
  {
   "cell_type": "code",
   "execution_count": 4,
   "metadata": {},
   "outputs": [
    {
     "name": "stdout",
     "output_type": "stream",
     "text": [
      "<class 'tuple'>\n",
      "안녕하세요\n",
      "즐거운\n",
      "파이썬 프로그래밍\n",
      "\n",
      "<class 'tuple'>\n",
      "안녕하세요\n",
      "즐거운\n",
      "파이썬 프로그래밍\n",
      "\n",
      "<class 'tuple'>\n",
      "안녕하세요\n",
      "즐거운\n",
      "파이썬 프로그래밍\n",
      "\n"
     ]
    }
   ],
   "source": [
    "def print_n_times(n, *values):  #values는 가변매개변수인데 항상 뒤에 와야함. 그래야 오류가 안남\n",
    "    for i in range(n):\n",
    "        \n",
    "        print(type(values))\n",
    "        for value in values:\n",
    "            print(value)\n",
    "            \n",
    "        print()\n",
    "        \n",
    "        \n",
    "print_n_times(3, '안녕하세요', '즐거운', '파이썬 프로그래밍')\n",
    "\n",
    "# 두번째 매개변수 #values에 안녕하세요 즐거운 파이썬 프로그래밍이 대응된다.\n",
    "# n=3"
   ]
  },
  {
   "cell_type": "code",
   "execution_count": 5,
   "metadata": {},
   "outputs": [
    {
     "name": "stdout",
     "output_type": "stream",
     "text": [
      "안녕하세요\n",
      "안녕하세요\n",
      "안녕하세요\n"
     ]
    }
   ],
   "source": [
    "def print_n_times(value, n=3) :\n",
    "                  # n번 반복함\\\n",
    "    for i in range(n):\n",
    "        print(value)\n",
    "        \n",
    "print_n_times('안녕하세요')"
   ]
  },
  {
   "cell_type": "code",
   "execution_count": 6,
   "metadata": {},
   "outputs": [
    {
     "name": "stdout",
     "output_type": "stream",
     "text": [
      "안녕하세요\n",
      "즐거운\n",
      "파이썬프로그래밍\n",
      "\n",
      "안녕하세요\n",
      "즐거운\n",
      "파이썬프로그래밍\n",
      "\n"
     ]
    }
   ],
   "source": [
    "def print_n_times(*values, n=2):            #n번 반복함\n",
    "    for i in range(n):                      # values는 리스트처럼 활용한다\n",
    "        for value in values:                \n",
    "            print(value)                   \n",
    "            \n",
    "        print()                            # 단순한 줄바꿈\n",
    "        \n",
    "        # 함수 호출\n",
    "print_n_times('안녕하세요', '즐거운', '파이썬프로그래밍',)"
   ]
  },
  {
   "cell_type": "markdown",
   "metadata": {},
   "source": [
    "## p.6"
   ]
  },
  {
   "cell_type": "code",
   "execution_count": 7,
   "metadata": {},
   "outputs": [
    {
     "name": "stdout",
     "output_type": "stream",
     "text": [
      "안녕하세요\n",
      "즐거운\n",
      "파이썬 프로그래밍\n",
      "\n",
      "안녕하세요\n",
      "즐거운\n",
      "파이썬 프로그래밍\n",
      "\n",
      "안녕하세요\n",
      "즐거운\n",
      "파이썬 프로그래밍\n",
      "\n"
     ]
    }
   ],
   "source": [
    "def print_n_times(*values ,n=3 ):\n",
    "    for i in range(n):\n",
    "        for value in values:\n",
    "            print(value)\n",
    "            \n",
    "        print()\n",
    "        \n",
    "print_n_times('안녕하세요', '즐거운', '파이썬 프로그래밍', n=3) # n=3은 키워드 인수. 위의 매개변수3에 대한 인수이다."
   ]
  },
  {
   "cell_type": "code",
   "execution_count": 8,
   "metadata": {},
   "outputs": [
    {
     "name": "stdout",
     "output_type": "stream",
     "text": [
      "60\n",
      "310\n",
      "310\n",
      "220\n"
     ]
    }
   ],
   "source": [
    "def test(a, b=10, c=100):\n",
    "    print(a+b+c)\n",
    "    \n",
    "#1) 기본 형태\n",
    "test(10,20,30)\n",
    "\n",
    "#2) 키워드 매개변수로 모든 매개변수를 지정한 형태\n",
    "test(a=10, b=100, c=200)\n",
    "\n",
    "#3) 키워드 매개변수로 모든 매개변수를 마구잡이로 지정한 형태\n",
    "test(c=10, a=100, b=200)\n",
    "\n",
    "#4) 키워드 매개변수로 일부 매개변수만 지정한 형태\n",
    "test(10, c=200)"
   ]
  },
  {
   "cell_type": "markdown",
   "metadata": {},
   "source": [
    "## for문"
   ]
  },
  {
   "cell_type": "code",
   "execution_count": 9,
   "metadata": {},
   "outputs": [
    {
     "name": "stdout",
     "output_type": "stream",
     "text": [
      "1 x 1  =  1\t2 x 1  =  2\t3 x 1  =  3\t4 x 1  =  4\t5 x 1  =  5\t6 x 1  =  6\t7 x 1  =  7\t8 x 1  =  8\t9 x 1  =  9\t\n",
      "\n",
      "1 x 2  =  2\t2 x 2  =  4\t3 x 2  =  6\t4 x 2  =  8\t5 x 2  =  10\t6 x 2  =  12\t7 x 2  =  14\t8 x 2  =  16\t9 x 2  =  18\t\n",
      "\n",
      "1 x 3  =  3\t2 x 3  =  6\t3 x 3  =  9\t4 x 3  =  12\t5 x 3  =  15\t6 x 3  =  18\t7 x 3  =  21\t8 x 3  =  24\t9 x 3  =  27\t\n",
      "\n",
      "1 x 4  =  4\t2 x 4  =  8\t3 x 4  =  12\t4 x 4  =  16\t5 x 4  =  20\t6 x 4  =  24\t7 x 4  =  28\t8 x 4  =  32\t9 x 4  =  36\t\n",
      "\n",
      "1 x 5  =  5\t2 x 5  =  10\t3 x 5  =  15\t4 x 5  =  20\t5 x 5  =  25\t6 x 5  =  30\t7 x 5  =  35\t8 x 5  =  40\t9 x 5  =  45\t\n",
      "\n",
      "1 x 6  =  6\t2 x 6  =  12\t3 x 6  =  18\t4 x 6  =  24\t5 x 6  =  30\t6 x 6  =  36\t7 x 6  =  42\t8 x 6  =  48\t9 x 6  =  54\t\n",
      "\n",
      "1 x 7  =  7\t2 x 7  =  14\t3 x 7  =  21\t4 x 7  =  28\t5 x 7  =  35\t6 x 7  =  42\t7 x 7  =  49\t8 x 7  =  56\t9 x 7  =  63\t\n",
      "\n",
      "1 x 8  =  8\t2 x 8  =  16\t3 x 8  =  24\t4 x 8  =  32\t5 x 8  =  40\t6 x 8  =  48\t7 x 8  =  56\t8 x 8  =  64\t9 x 8  =  72\t\n",
      "\n",
      "1 x 9  =  9\t2 x 9  =  18\t3 x 9  =  27\t4 x 9  =  36\t5 x 9  =  45\t6 x 9  =  54\t7 x 9  =  63\t8 x 9  =  72\t9 x 9  =  81\t\n",
      "\n",
      "\n"
     ]
    }
   ],
   "source": [
    "for front in range(1,10):\n",
    "    for back in range(1, 10):\n",
    "        print(back, 'x', front, \" = \", front*back, end='\\t')\n",
    "    print('\\n')\n",
    "print()\n",
    "\n",
    "\n",
    "\n",
    "#print('*'*80)\n",
    "#\n",
    "#for front in range(1,10):\n",
    "#    for back in range(4, 7):\n",
    "#        print(back, 'x', front, \" = \", front*back, end='\\t')\n",
    "#    print('\\n')\n",
    "#print()\n",
    "#\n",
    "#print('*'*80)\n",
    "#\n",
    "#for front in range(1,10):\n",
    "#    for back in range(7, 10):\n",
    "#        print(back, 'x', front, \" = \", front*back, end='\\t')\n",
    "#    print('\\n')\n",
    "#print()"
   ]
  },
  {
   "cell_type": "code",
   "execution_count": 10,
   "metadata": {},
   "outputs": [
    {
     "name": "stdout",
     "output_type": "stream",
     "text": [
      "1 * 1 = 1 \t 2 * 1 = 2 \t 3 * 1 = 3 \n",
      "\n",
      "1 * 2 = 2 \t 2 * 2 = 4 \t 3 * 2 = 6 \n",
      "\n",
      "1 * 3 = 3 \t 2 * 3 = 6 \t 3 * 3 = 9 \n",
      "\n",
      "1 * 4 = 4 \t 2 * 4 = 8 \t 3 * 4 = 12 \n",
      "\n",
      "1 * 5 = 5 \t 2 * 5 = 10 \t 3 * 5 = 15 \n",
      "\n",
      "1 * 6 = 6 \t 2 * 6 = 12 \t 3 * 6 = 18 \n",
      "\n",
      "1 * 7 = 7 \t 2 * 7 = 14 \t 3 * 7 = 21 \n",
      "\n",
      "1 * 8 = 8 \t 2 * 8 = 16 \t 3 * 8 = 24 \n",
      "\n",
      "1 * 9 = 9 \t 2 * 9 = 18 \t 3 * 9 = 27 \n",
      "\n",
      "4 * 1 = 4 \t 5 * 1 = 5 \t 6 * 1 = 6 \n",
      "\n",
      "4 * 2 = 8 \t 5 * 2 = 10 \t 6 * 2 = 12 \n",
      "\n",
      "4 * 3 = 12 \t 5 * 3 = 15 \t 6 * 3 = 18 \n",
      "\n",
      "4 * 4 = 16 \t 5 * 4 = 20 \t 6 * 4 = 24 \n",
      "\n",
      "4 * 5 = 20 \t 5 * 5 = 25 \t 6 * 5 = 30 \n",
      "\n",
      "4 * 6 = 24 \t 5 * 6 = 30 \t 6 * 6 = 36 \n",
      "\n",
      "4 * 7 = 28 \t 5 * 7 = 35 \t 6 * 7 = 42 \n",
      "\n",
      "4 * 8 = 32 \t 5 * 8 = 40 \t 6 * 8 = 48 \n",
      "\n",
      "4 * 9 = 36 \t 5 * 9 = 45 \t 6 * 9 = 54 \n",
      "\n",
      "7 * 1 = 7 \t 8 * 1 = 8 \t 9 * 1 = 9 \n",
      "\n",
      "7 * 2 = 14 \t 8 * 2 = 16 \t 9 * 2 = 18 \n",
      "\n",
      "7 * 3 = 21 \t 8 * 3 = 24 \t 9 * 3 = 27 \n",
      "\n",
      "7 * 4 = 28 \t 8 * 4 = 32 \t 9 * 4 = 36 \n",
      "\n",
      "7 * 5 = 35 \t 8 * 5 = 40 \t 9 * 5 = 45 \n",
      "\n",
      "7 * 6 = 42 \t 8 * 6 = 48 \t 9 * 6 = 54 \n",
      "\n",
      "7 * 7 = 49 \t 8 * 7 = 56 \t 9 * 7 = 63 \n",
      "\n",
      "7 * 8 = 56 \t 8 * 8 = 64 \t 9 * 8 = 72 \n",
      "\n",
      "7 * 9 = 63 \t 8 * 9 = 72 \t 9 * 9 = 81 \n",
      "\n"
     ]
    }
   ],
   "source": [
    "for i in range(1, 10, 3): #외측for문\n",
    "    for k in range(1, 10, 1): #내측for문\n",
    "        print(\"%d * %d = %d \\t %d * %d = %d \\t %d * %d = %d \"\n",
    "              %(i, k, i*k, i+1,k,(i+1)*k, i+2, k, (i+2)*k ))\n",
    "        print('')"
   ]
  },
  {
   "cell_type": "code",
   "execution_count": 11,
   "metadata": {},
   "outputs": [
    {
     "name": "stdout",
     "output_type": "stream",
     "text": [
      "1 * 1 = 1, 2 * 1 = 2 3 * 1 = 3\n",
      "\n",
      "1 * 2 = 2, 2 * 2 = 4 3 * 2 = 6\n",
      "\n",
      "1 * 3 = 3, 2 * 3 = 6 3 * 3 = 9\n",
      "\n",
      "1 * 4 = 4, 2 * 4 = 8 3 * 4 = 12\n",
      "\n",
      "1 * 5 = 5, 2 * 5 = 10 3 * 5 = 15\n",
      "\n",
      "1 * 6 = 6, 2 * 6 = 12 3 * 6 = 18\n",
      "\n",
      "1 * 7 = 7, 2 * 7 = 14 3 * 7 = 21\n",
      "\n",
      "1 * 8 = 8, 2 * 8 = 16 3 * 8 = 24\n",
      "\n",
      "1 * 9 = 9, 2 * 9 = 18 3 * 9 = 27\n",
      "\n",
      "4 * 1 = 4, 5 * 1 = 5 6 * 1 = 6\n",
      "\n",
      "4 * 2 = 8, 5 * 2 = 10 6 * 2 = 12\n",
      "\n",
      "4 * 3 = 12, 5 * 3 = 15 6 * 3 = 18\n",
      "\n",
      "4 * 4 = 16, 5 * 4 = 20 6 * 4 = 24\n",
      "\n",
      "4 * 5 = 20, 5 * 5 = 25 6 * 5 = 30\n",
      "\n",
      "4 * 6 = 24, 5 * 6 = 30 6 * 6 = 36\n",
      "\n",
      "4 * 7 = 28, 5 * 7 = 35 6 * 7 = 42\n",
      "\n",
      "4 * 8 = 32, 5 * 8 = 40 6 * 8 = 48\n",
      "\n",
      "4 * 9 = 36, 5 * 9 = 45 6 * 9 = 54\n",
      "\n",
      "7 * 1 = 7, 8 * 1 = 8 9 * 1 = 9\n",
      "\n",
      "7 * 2 = 14, 8 * 2 = 16 9 * 2 = 18\n",
      "\n",
      "7 * 3 = 21, 8 * 3 = 24 9 * 3 = 27\n",
      "\n",
      "7 * 4 = 28, 8 * 4 = 32 9 * 4 = 36\n",
      "\n",
      "7 * 5 = 35, 8 * 5 = 40 9 * 5 = 45\n",
      "\n",
      "7 * 6 = 42, 8 * 6 = 48 9 * 6 = 54\n",
      "\n",
      "7 * 7 = 49, 8 * 7 = 56 9 * 7 = 63\n",
      "\n",
      "7 * 8 = 56, 8 * 8 = 64 9 * 8 = 72\n",
      "\n",
      "7 * 9 = 63, 8 * 9 = 72 9 * 9 = 81\n",
      "\n"
     ]
    }
   ],
   "source": [
    "for i in range(1, 10, 3) :\n",
    "    for j in range(1,10) :\n",
    "        print(f'{i} * {j} = {i*j}, {i+1} * {j} = {(i+1)*j} {i+2} * {j} = {(i+2)*j}')\n",
    "        print()"
   ]
  },
  {
   "cell_type": "markdown",
   "metadata": {},
   "source": [
    "## *(aesterrisk) 만들기"
   ]
  },
  {
   "cell_type": "code",
   "execution_count": 12,
   "metadata": {},
   "outputs": [
    {
     "name": "stdout",
     "output_type": "stream",
     "text": [
      "1 출력\n",
      "2 출력\n",
      "다음 문장\n"
     ]
    }
   ],
   "source": [
    "i = 0\n",
    "while True:\n",
    "    i += 1\n",
    "    if i == 3:\n",
    "        break\n",
    "        print('3---출력')\n",
    "    print(i,'출력')\n",
    "print('다음 문장')"
   ]
  },
  {
   "cell_type": "code",
   "execution_count": 13,
   "metadata": {},
   "outputs": [
    {
     "name": "stdout",
     "output_type": "stream",
     "text": [
      "*\n",
      "**\n",
      "***\n",
      "***\n",
      "**\n",
      "*\n"
     ]
    }
   ],
   "source": [
    "for i in range(1, 4):\n",
    "    for j in range(i):\n",
    "        print('*', end='')\n",
    "    print()\n",
    "    \n",
    "for i in range(3, 0, -1):\n",
    "    for j in range(i):\n",
    "        print('*', end='')\n",
    "    print()"
   ]
  },
  {
   "cell_type": "markdown",
   "metadata": {},
   "source": [
    "## 65일차 실습4"
   ]
  },
  {
   "cell_type": "code",
   "execution_count": 14,
   "metadata": {},
   "outputs": [
    {
     "name": "stdout",
     "output_type": "stream",
     "text": [
      "*\n",
      "**\n",
      "***\n",
      "***\n",
      "**\n",
      "*\n"
     ]
    }
   ],
   "source": [
    "#065일차-실습-4-해답-v1\n",
    "star=\"*\"\n",
    "for i in range(0,2): #0-1 : 증감종류\n",
    "    for k in range(1,4): #1,2,3 : 줄(line)수\n",
    "        if i==0:\n",
    "            print(\"{}\".format(star*(i+k)))\n",
    "        else:\n",
    "            print(\"{}\".format(star*(4-k)))"
   ]
  },
  {
   "cell_type": "code",
   "execution_count": 15,
   "metadata": {},
   "outputs": [
    {
     "name": "stdout",
     "output_type": "stream",
     "text": [
      "*\n",
      "**\n",
      "***\n",
      "***\n",
      "**\n",
      "*\n",
      "********************************************************************************\n"
     ]
    }
   ],
   "source": [
    "star = '*'\n",
    "for i in range(0,2): #0-1\n",
    "    for k in range(1,4): #1-4\n",
    "        if i==0:\n",
    "            print('{}'.format(star*(i+k)))\n",
    "        else:\n",
    "            print('{}'.format(star*(4-k)))\n",
    "\n",
    "\n",
    "print('*'*80)\n"
   ]
  },
  {
   "cell_type": "code",
   "execution_count": 16,
   "metadata": {},
   "outputs": [
    {
     "name": "stdout",
     "output_type": "stream",
     "text": [
      "*\n",
      "**\n",
      "***\n",
      "***\n",
      "**\n",
      "*\n"
     ]
    }
   ],
   "source": [
    "for y in range(1,7):\n",
    "    for x in range(1,4):\n",
    "        if y>=x and (y-x)<4:\n",
    "            print('*', end=\"\")\n",
    "    print()"
   ]
  },
  {
   "cell_type": "code",
   "execution_count": 17,
   "metadata": {},
   "outputs": [
    {
     "name": "stdout",
     "output_type": "stream",
     "text": [
      "*\n",
      "**\n",
      "***\n",
      "***\n",
      "**\n",
      "*\n"
     ]
    }
   ],
   "source": [
    "for i in [1,2,3,3,2,1]:\n",
    "    for k in [1]:\n",
    "        g=i*k\n",
    "    print('*'*g)"
   ]
  },
  {
   "cell_type": "markdown",
   "metadata": {},
   "source": [
    "## 실습"
   ]
  },
  {
   "cell_type": "code",
   "execution_count": 18,
   "metadata": {},
   "outputs": [
    {
     "name": "stdout",
     "output_type": "stream",
     "text": [
      "3---출력\n",
      "3---출력\n",
      "3---출력\n",
      "3---출력\n",
      "5 출력\n",
      "다음문장\n",
      "********************************************************************************\n"
     ]
    }
   ],
   "source": [
    "i=0\n",
    "while i<5:\n",
    "    \n",
    "    \n",
    "#    \n",
    "    i+=1\n",
    "    if i ==3 :\n",
    "        continue\n",
    "    print(\"3---출력\")      # 종속문장\n",
    "print(i, '출력')\n",
    "print('다음문장')\n",
    "\n",
    "# for문보다 while문이 더 빡셈.\n",
    "\n",
    "\n",
    "print('*'*80)\n",
    "######################\n"
   ]
  },
  {
   "cell_type": "code",
   "execution_count": 19,
   "metadata": {},
   "outputs": [
    {
     "name": "stdout",
     "output_type": "stream",
     "text": [
      "1 출력\n",
      "2 출력\n",
      "4 출력\n",
      "5 출력\n",
      "다음 문장\n"
     ]
    }
   ],
   "source": [
    "i = 0\n",
    "while i < 5:\n",
    "  i += 1\n",
    "  if i == 3:\n",
    "      continue\n",
    "      print(\"3---출력\")\n",
    "  print(i,\"출력\")\n",
    "print(\"다음 문장\")"
   ]
  },
  {
   "cell_type": "code",
   "execution_count": 20,
   "metadata": {},
   "outputs": [
    {
     "name": "stdout",
     "output_type": "stream",
     "text": [
      "1 출력\n",
      "2 출력\n",
      "다음 문장\n"
     ]
    }
   ],
   "source": [
    "# while문의 조건식\n",
    "#while의 조건식에 True라는 불린값이 사용되면 종속문장을 무한 반복한다는 뜻.\n",
    "\n",
    "i = 0\n",
    "while True:\n",
    "  i += 1\n",
    "  if i == 3:\n",
    "      break\n",
    "      print(\"3---출력\")\n",
    "  print(i,\"출력\")\n",
    "print(\"다음 문장\")"
   ]
  },
  {
   "cell_type": "code",
   "execution_count": 21,
   "metadata": {},
   "outputs": [
    {
     "name": "stdout",
     "output_type": "stream",
     "text": [
      "1 출력\n",
      "2 출력\n",
      "4 출력\n",
      "5 출력\n",
      "다음 문장\n"
     ]
    }
   ],
   "source": [
    "# break문은 continue문에 대한 내용.\n",
    "i = 0\n",
    "while i < 5:\n",
    "  i += 1\n",
    "  if i == 3:\n",
    "      continue\n",
    "      print(\"3---출력\")\n",
    "  print(i,\"출력\")\n",
    "print(\"다음 문장\")"
   ]
  },
  {
   "cell_type": "code",
   "execution_count": 22,
   "metadata": {},
   "outputs": [
    {
     "name": "stdout",
     "output_type": "stream",
     "text": [
      "1 출력\n",
      "2 출력\n",
      "4 출력\n",
      "다음 문장\n"
     ]
    }
   ],
   "source": [
    "for i in range(1,5,1):\n",
    "  if i == 3:\n",
    "      continue\n",
    "      print(\"3---출력\")\n",
    "  print(i,\"출력\")\n",
    "print(\"다음 문장\")"
   ]
  },
  {
   "cell_type": "code",
   "execution_count": null,
   "metadata": {},
   "outputs": [],
   "source": []
  },
  {
   "cell_type": "markdown",
   "metadata": {},
   "source": [
    "### While 실습"
   ]
  },
  {
   "cell_type": "code",
   "execution_count": 1,
   "metadata": {},
   "outputs": [
    {
     "name": "stdout",
     "output_type": "stream",
     "text": [
      "==========커피 자판기==========\n",
      "1. 커피(200)\t2. 코코아(250)\t3. 반환\t4. 종료\n",
      "\n",
      "맛있게 드세요\n",
      "==========커피 자판기==========\n",
      "1. 커피(200)\t2. 코코아(250)\t3. 반환\t4. 종료\n",
      "\n",
      "맛있게 드세요\n",
      "==========커피 자판기==========\n",
      "1. 커피(200)\t2. 코코아(250)\t3. 반환\t4. 종료\n",
      "\n",
      "반환 금액 :  50\n",
      "==========커피 자판기==========\n",
      "1. 커피(200)\t2. 코코아(250)\t3. 반환\t4. 종료\n",
      "\n",
      "프로그램 종료\n"
     ]
    }
   ],
   "source": [
    "# 066일차-실습-1 해답\n",
    "money, j = 0, 0;\n",
    "money = int(input('요금을 투입 하세요 : '))\n",
    "while True:   # while의 종속문장을 무한반복 하도록 설계하였습니다.\n",
    "              # 지정된 번호인 1 ~ 4 중의 한 가지를 입력했을 경우와 \n",
    "              # 이외의  숫자를 잘못 입력했을 경우를 구분합니다.\n",
    "    print(\"==========커피 자판기==========\")\n",
    "    print(\"1. 커피(200)\\t2. 코코아(250)\\t3. 반환\\t4. 종료\\n\")\n",
    "    j = int(input(\"메뉴를 선택하세요>>> \"))\n",
    "    if j == 4:       # 종료를 선택함 \n",
    "        break\n",
    "    elif ((j == 1 and money < 200) or (j == 2 and money < 250)):\n",
    "        print(\"요금이 부족합니다\")\n",
    "    elif j == 1:       # 커피를 선택함 \n",
    "        print(\"맛있게 드세요\")\n",
    "        money -= 200    # 커피 금액을 요금에서 감산함\n",
    "    elif j == 2:        # 코코아를 선택함 \n",
    "        print(\"맛있게 드세요\")\n",
    "        money -= 250    # 코코아 금액을 요금에서 감산함\n",
    "    elif j == 3:        # 반환을 선택함 \n",
    "        print('반환 금액 : ', money) #literal , money\n",
    "        money = 0       # 반환을 한 다음에 요금을 0으로 초기화함  # if문이 필터링구문\n",
    "    else:\n",
    "        print(\"잘못입력하셨습니다\")   \n",
    "print('프로그램 종료')"
   ]
  },
  {
   "cell_type": "code",
   "execution_count": 2,
   "metadata": {},
   "outputs": [
    {
     "name": "stdout",
     "output_type": "stream",
     "text": [
      "500\n",
      "True\n",
      "==========커피 자판기==========\n",
      "1. 커피(200)\t2. 코코아(250)\t3. 반환\t4. 종료\n",
      "\n",
      "맛있게 드세요\n",
      "==========커피 자판기==========\n",
      "1. 커피(200)\t2. 코코아(250)\t3. 반환\t4. 종료\n",
      "\n",
      "맛있게 드세요\n",
      "==========커피 자판기==========\n",
      "1. 커피(200)\t2. 코코아(250)\t3. 반환\t4. 종료\n",
      "\n",
      "반환 금액 :  50\n",
      "==========커피 자판기==========\n",
      "1. 커피(200)\t2. 코코아(250)\t3. 반환\t4. 종료\n",
      "\n",
      "프로그램 종료\n"
     ]
    }
   ],
   "source": [
    "# 066일차-실습-2해답\n",
    "money, j = 0, 0;\n",
    "while True :\n",
    "    txt_money = input('요금을 투입 하세요 : ')\n",
    "    print(txt_money)\n",
    "    print(txt_money.isdigit())\n",
    "    if txt_money.isdigit() : # isdigit()은 문자열이 정수인지 문자인지 판단해서 숫자라면 True를 반환함\n",
    "        money = int(txt_money)\n",
    "        break\n",
    "    else :\n",
    "        txt_money =''\n",
    "        print('숫자를 입력하세요')\n",
    "        continue\n",
    "#\n",
    "#money = int(    input('요금을 투입 하세요 : ')   )\n",
    "while True:   # while의 종속문장을 무한반복 하도록 설계하였습니다.\n",
    "              # 지정된 번호인 1 ~ 4 중의 한 가지를 입력했을 경우와\n",
    "              # 이외의  숫자를 잘못 입력했을 경우를 구분합니다.\n",
    "    print(\"==========커피 자판기==========\")\n",
    "    print(\"1. 커피(200)\\t2. 코코아(250)\\t3. 반환\\t4. 종료\\n\")\n",
    "    j = int(input(\"메뉴를 선택하세요>>> \"))\n",
    "    if j == 4:       # 종료를 선택함\n",
    "        break\n",
    "    elif ((j == 1 and money < 200) or (j == 2 and money < 250)):\n",
    "        print(\"요금이 부족합니다\")\n",
    "    elif j == 1:       # 커피를 선택함\n",
    "        print(\"맛있게 드세요\")\n",
    "        money -= 200    # 커피 금액을 요금에서 감산함\n",
    "    elif j == 2:        # 코코아를 선택함\n",
    "        print(\"맛있게 드세요\")\n",
    "        money -= 250    # 코코아 금액을 요금에서 감산함\n",
    "    elif j == 3:        # 반환을 선택함\n",
    "        print('반환 금액 : ',money)\n",
    "        money = 0       # 반환을 한 다음에 요금을 0으로 초기화함\n",
    "    else:\n",
    "        print(\"잘못입력하셨습니다\")   # if문이 필터링구문\n",
    "print('프로그램 종료')"
   ]
  },
  {
   "cell_type": "markdown",
   "metadata": {},
   "source": [
    "## 실습"
   ]
  },
  {
   "cell_type": "code",
   "execution_count": null,
   "metadata": {},
   "outputs": [],
   "source": [
    "def print_diamond(num):\n",
    "    if num % 2 == 0 or num < 3:\n",
    "        print('3 이상의 홀수를 입력하세요')\n",
    "        return\n",
    "    \n",
    "    for i in range(1, num+1 ):\n",
    "        if i <= num // 2 + 1:\n",
    "            for j in range(num // 2 + 1 - i ):\n",
    "                print(' ' ,end='')\n",
    "            for j in range(2 * i -1):\n",
    "                print('*', end='')\n",
    "            print()\n",
    "        else:\n",
    "            for j in range(i - num // 2 - 1 ):\n",
    "                print(' ', end='')\n",
    "            for j in range(2 * (num - i ) +1 ):\n",
    "                print('*', end='')\n",
    "                print()\n",
    "                \n",
    "while True:\n",
    "    num = int(input('홀수를 입력하세요 (0 입력 시 종료) : '))\n",
    "    if num == 0:\n",
    "        print('프로그램을 종료하세요.')\n",
    "        break\n",
    "    else:\n",
    "        print_diamond(num)"
   ]
  },
  {
   "cell_type": "code",
   "execution_count": 3,
   "metadata": {},
   "outputs": [
    {
     "name": "stdout",
     "output_type": "stream",
     "text": [
      "안녕하세요\n",
      "\n",
      "즐거운\n",
      "\n",
      "파이썬 프로그래밍\n",
      "\n",
      "안녕하세요\n",
      "\n",
      "즐거운\n",
      "\n",
      "파이썬 프로그래밍\n",
      "\n",
      "안녕하세요\n",
      "\n",
      "즐거운\n",
      "\n",
      "파이썬 프로그래밍\n",
      "\n"
     ]
    }
   ],
   "source": [
    "def print_n_times(n, *values): #n번 반복\n",
    "    for i in range(n):\n",
    "        for value in values:\n",
    "            print(value)\n",
    "            \n",
    "            print()\n",
    "            \n",
    "print_n_times(3, '안녕하세요', '즐거운', '파이썬 프로그래밍')"
   ]
  }
 ],
 "metadata": {
  "kernelspec": {
   "display_name": "NvulyTarget",
   "language": "python",
   "name": "conda"
  },
  "language_info": {
   "codemirror_mode": {
    "name": "ipython",
    "version": 3
   },
   "file_extension": ".py",
   "mimetype": "text/x-python",
   "name": "python",
   "nbconvert_exporter": "python",
   "pygments_lexer": "ipython3",
   "version": "3.11.5"
  }
 },
 "nbformat": 4,
 "nbformat_minor": 2
}
