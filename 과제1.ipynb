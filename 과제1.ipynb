{
 "cells": [
  {
   "cell_type": "code",
   "execution_count": 26,
   "metadata": {},
   "outputs": [
    {
     "name": "stdout",
     "output_type": "stream",
     "text": [
      "~~객체 생성~~\n",
      "plus =  30\n",
      "minus = -10\n",
      "~~객체 생성~~\n",
      "plus =  160\n",
      "minus = -20\n"
     ]
    }
   ],
   "source": [
    "class calc_class :\n",
    "    # 변수 선언\n",
    "    x = y = 0\n",
    "    # 생성자 : 객체 생성 + [멤버변수 초기화]\n",
    "    def __init__(self, a, b):\n",
    "        print('~~객체 생성~~')\n",
    "        self.x = a # 10\n",
    "        self.y = b # 20\n",
    "    # 멤버 함수(기능)\n",
    "    def plus(self): # self : 멤버(변수+함수) 참조 객체\n",
    "        p = self.x + self.y\n",
    "        '''\n",
    "        p : 지역변수\n",
    "        self.x, self.y : 전역변수  \n",
    "        '''\n",
    "        return p\n",
    "    def minus(self):\n",
    "        m = self.x - self.y\n",
    "        return m\n",
    "# class(1) -> object(n) 생성\n",
    "obj1 = calc_class(10, 20) # 생성자 -> 객체1  \n",
    "# object.member()  \n",
    "print('plus = ', obj1.plus()) # plus =  30\n",
    "print('minus =', obj1.minus()) # minus = -10\n",
    "#\n",
    "obj03 = calc_class(70,90)\n",
    "print('plus = ', obj03.plus())\n",
    "print('minus =', obj03.minus())"
   ]
  },
  {
   "cell_type": "code",
   "execution_count": 9,
   "metadata": {},
   "outputs": [
    {
     "name": "stdout",
     "output_type": "stream",
     "text": [
      "나눗셈 :  나눗셈 연산은 0으로 나누기가 불가능합니다. 다시 입력하세요.\n",
      "제곱 :   1\n",
      "1999년 02월 02일에 출생할 남성입니다.\n"
     ]
    }
   ],
   "source": [
    "class Calc_class14:\n",
    "    x=y=0\n",
    "    \n",
    "    def __init__(self,a,b):\n",
    "        self.x=a \n",
    "        self.y=b\n",
    "        \n",
    "    def div(self):\n",
    "        if self.x == 0 or self.y == 0:\n",
    "            return '나눗셈 연산은 0으로 나누기가 불가능합니다. 다시 입력하세요.'\n",
    "        else:\n",
    "            return self.x / self.y\n",
    "        \n",
    "    def squ(self):\n",
    "        return self.x ** self.y\n",
    "    \n",
    "    @classmethod\n",
    "    def filter(cls, str): # str 매개변수에는 주민등록번호\n",
    "        print('19%s년 %s월 %s일에 출생할 %s입니다.'\n",
    "        % (str[:2], str[2:4], str[4:6], '남성' if int(str[7]) % 4 == 1 or int(str[7]) % 4 == 3 else '여성' ))\n",
    "        \n",
    "        \n",
    "    # 예 '990101-2024135' -> 이 정보를 이용하여 '1999년 01월 01에 출생한 여성입니다.'\n",
    "    # 라고 출력할 수 있도록 클래스 메소드의 본문을 작성.\n",
    "    \n",
    "g_num1 = int(input('숫자 입력 : '))\n",
    "g_num2 = int(input('숫자 입력 : '))\n",
    "g_jumin = input('주민번호입력 : ') #990101-2222222\n",
    "    \n",
    "obj = Calc_class14(g_num1, g_num2)\n",
    "print('나눗셈 : ', obj.div())\n",
    "\n",
    "print('제곱 :  ', obj.squ())\n",
    "\n",
    "Calc_class14.filter(g_jumin)\n",
    "    \n",
    "    "
   ]
  },
  {
   "cell_type": "code",
   "execution_count": 11,
   "metadata": {},
   "outputs": [
    {
     "name": "stdout",
     "output_type": "stream",
     "text": [
      "계좌정보 :  1000\n",
      "계좌정보 :  (11000, '홍길동', '125-152-4125-41')\n"
     ]
    }
   ],
   "source": [
    "class Account:\n",
    "    # (1) 은닉 멤버변수\n",
    "    __balance = 0 #잔액\n",
    "    __accName = None # 예금주\n",
    "    __accNo = None # 계좌번호\n",
    "    \n",
    "    # (2) 생성자 : 멤버변수 초기화\n",
    "    def __init__ (self, bal, name, no):\n",
    "        self.__balance = bal # 잔액 초기화\n",
    "        self.__accName = name # 예금주\n",
    "        self.__accNo = no # 계좌번호\n",
    "        \n",
    "    # (3) 계좌정보 확인 : Getter 메서드 - 반드시 return 명령문을 갖는다. 읽기참조. 값을 얻는것.\n",
    "    def getBalance(self):\n",
    "        return self.__balance, self.__accName, self.__accNo\n",
    "    \n",
    "    # getBalance내부의 값을 알려주지 않겠다. 캡슐화의 컨셉. 직접접근을 막는.\n",
    "    # 변수앞에 __(언더바2개)를 붙이면 외부에서 참조 불가능한 은닉변수다.\n",
    "    \n",
    "    \n",
    "    # (4) 입금하기 : Setter --> 필터링기능을 구현해야 한다 --> 함수로 반드시 매개변수를 갖는다. 만약에\n",
    "    # 외부 함수에서 생성된 자료를 수정할 경우에는 해당 변수에 nonlocal 명령어를 쓴다. 할당하는건 쓰기참조. 값을 할당하는 것.\n",
    "    def deposit(self, money):\n",
    "        if money < 0 :\n",
    "            print('금액 확인')\n",
    "            return # 종료(exit)\n",
    "        self.__balance += money # 누적해서 보관\n",
    "        \n",
    "        \n",
    "    # 은닉을 구현하고 따라하기 위해 게터메서드와 세터메서드는 필수적으로 따라온다.\n",
    "        \n",
    "    # (5) 출금하기 : Setter = 쓰기참조\n",
    "    def withdraw(self, money):\n",
    "        if self.balance < money :\n",
    "            print('잔액 부족')\n",
    "            return # 종료(exit)\n",
    "        self.__balance -= money\n",
    "        \n",
    "        ## 공통점 : __balance라는 은닉변수에 새로운 값이 할당. 감액형식으로.\n",
    "        \n",
    "    # (6) object 생성\n",
    "acc = Account (1000, '홍길동', '125-152-4125-41') # 생성자\n",
    "    \n",
    "    # (7) Getter 호출\n",
    "    # #오류(Error) 참조를 할 수가 없다는 얘기.\n",
    "bal = acc._Account__balance\n",
    "print('계좌정보 : ', bal)\n",
    "    \n",
    "    # (8) Setter 호출\n",
    "acc.deposit(10000) # 10,000원 입금\n",
    "bal = acc.getBalance()\n",
    "print('계좌정보 : ', bal) #입금 확인"
   ]
  },
  {
   "cell_type": "code",
   "execution_count": 2,
   "metadata": {},
   "outputs": [
    {
     "ename": "NameError",
     "evalue": "name 'getter' is not defined",
     "output_type": "error",
     "traceback": [
      "\u001b[1;31m---------------------------------------------------------------------------\u001b[0m",
      "\u001b[1;31mNameError\u001b[0m                                 Traceback (most recent call last)",
      "Cell \u001b[1;32mIn[2], line 17\u001b[0m\n\u001b[0;32m     14\u001b[0m     getter, setter \u001b[38;5;241m=\u001b[39m main_func(\u001b[38;5;241m100\u001b[39m) \u001b[38;5;66;03m# num 생성\u001b[39;00m\n\u001b[0;32m     16\u001b[0m \u001b[38;5;66;03m#   (3) 획득자 호출\u001b[39;00m\n\u001b[1;32m---> 17\u001b[0m \u001b[38;5;28mprint\u001b[39m(\u001b[38;5;124m'\u001b[39m\u001b[38;5;124mnum =\u001b[39m\u001b[38;5;124m'\u001b[39m, getter()) \u001b[38;5;66;03m#획득한 num 확인 \u001b[39;00m\n\u001b[0;32m     20\u001b[0m \u001b[38;5;66;03m#   (4) 지정자 획득\u001b[39;00m\n\u001b[0;32m     21\u001b[0m setter(\u001b[38;5;241m200\u001b[39m) \u001b[38;5;66;03m# num값 수정\u001b[39;00m\n",
      "\u001b[1;31mNameError\u001b[0m: name 'getter' is not defined"
     ]
    }
   ],
   "source": [
    "# 캡슐화, 상속, 재정의 !필수!\n",
    "\n",
    "#   (1) 중첩함수 정의\n",
    "def main_func(num):\n",
    "    num_val = num #자료 생성\n",
    "    def getter(): #게터 함수, return 있음\n",
    "        return num_val\n",
    "    def setter(value): #지정지 함수 인수 있음\n",
    "        nonlocal num_val\n",
    "        num_val = value\n",
    "        \n",
    "        return getter, setter \n",
    "#   (2) 외부 함수 호출\n",
    "    getter, setter = main_func(100) # num 생성\n",
    "    \n",
    "#   (3) 획득자 호출\n",
    "print('num =', getter()) #획득한 num 확인 \n",
    "\n",
    "\n",
    "#   (4) 지정자 획득\n",
    "setter(200) # num값 수정\n",
    "print('num =', getter()) #num 수정 확인 \n",
    "\n",
    "\n"
   ]
  },
  {
   "cell_type": "code",
   "execution_count": 13,
   "metadata": {},
   "outputs": [
    {
     "name": "stdout",
     "output_type": "stream",
     "text": [
      "name : 부모, age : 55\n",
      "name : 자식, age : 25, gender : 여자\n"
     ]
    }
   ],
   "source": [
    "# 상속(inheritance)\n",
    "class Super :\n",
    "# (1) 부모 클래스\n",
    "    def __init__(self, name, age):\n",
    "        self.name = name #동적할당이기때문에 위에 name=None, age=0을 해주지 않아도 됨 self.name=name 해주는 것만으로 초기화가 된거임.\n",
    "        self.age = age\n",
    "        \n",
    "    def display(self):\n",
    "        print('name : %s, age : %d' % (self.name, self.age))\n",
    "        \n",
    "sup = Super('부모', 55)\n",
    "sup.display() #부모 멤버 호출 \n",
    "\n",
    "\n",
    "# (2) 자식 클래스\n",
    "class Sub(Super) : # 클래스 상속\n",
    "    gender = None # 자식 멤버 얘도 사실 안해줘도됨. 밑에 self.gender = gender가 돼있기 때문.\n",
    "    \n",
    "    def __init__(self, name, age, gender):\n",
    "        self.name = name\n",
    "        self.age = age\n",
    "        self.gender = gender\n",
    "        \n",
    "# (4) 메서드 확장,재정의(method override)\n",
    "# 원래 부모에서 상속받은 display는 name과 age 변수만 출력하도록 되어 있다.\n",
    "    def display(self):\n",
    "        print('name : %s, age : %d, gender : %s' % (self.name, self.age, self.gender))\n",
    "        \n",
    "sub = Sub('자식', 25, '여자')\n",
    "sub.display() # 자식 멤버 호출"
   ]
  },
  {
   "cell_type": "code",
   "execution_count": 25,
   "metadata": {},
   "outputs": [
    {
     "name": "stdout",
     "output_type": "stream",
     "text": [
      "name : 홍길동, job : 회사원\n",
      "name : 이순신, job : 해군 장군, gender : 남자\n"
     ]
    }
   ],
   "source": [
    "class Parent :\n",
    "    \n",
    "    # 생성자 : 객체 + 초기화 --> 상속제외\n",
    "    def __init__(self, name, job):\n",
    "        self.name= name\n",
    "        self.job = job\n",
    "        \n",
    "    def display(self):\n",
    "        # print('name : {}, job : {}'.format(self.name, self.job))\n",
    "        print('name : %s, job : %s' % (self.name, self.job))\n",
    "        \n",
    "p = Parent('홍길동', '회사원')\n",
    "p.display()\n",
    "\n",
    "class Children(Parent):\n",
    "    gender = None\n",
    "    \n",
    "    def __init__(self, name, job, gender):\n",
    "        # 부모 클래스 생성자 호출\n",
    "        # super().__init__(name,job) #name, job 초기화 ###-------------> 어떤 방식으로 많이 쓰이는지. display 메소드 프린트할때도 어떤게 더 많이 쓰이는지.\n",
    "        # 강제로 부모 클래스를 동작시키는데, name, job을 부모 생성자 호출의 인수에 쓴것. \n",
    "        self.name = name\n",
    "        self.job = job\n",
    "        self.gender = gender\n",
    "        \n",
    "    def display(self):\n",
    "        # print('name : {}, job : {}, gender : {}'.format(self.name, self.job, self.gender))\n",
    "        print('name : %s, job : %s, gender : %s' % (self.name, self.job, self.gender))\n",
    "        \n",
    "chil = Children('이순신', '해군 장군', '남자')\n",
    "chil.display()"
   ]
  },
  {
   "cell_type": "code",
   "execution_count": 31,
   "metadata": {},
   "outputs": [
    {
     "name": "stdout",
     "output_type": "stream",
     "text": [
      "총 수령액 : 3200000 \n",
      "총 수령액 : 1200000 \n"
     ]
    }
   ],
   "source": [
    "# (1) 부모클래스\n",
    "class Employee:\n",
    "    name = None\n",
    "    pay = 0\n",
    "    \n",
    "    def __init__(self, name):\n",
    "        self.name = name\n",
    "        \n",
    "    def pay_calc(self):\n",
    "        pass\n",
    "# (2) 자식클래스 : 정규직\n",
    "class Permanent (Employee):\n",
    "    def __init__(self, name):\n",
    "        #super().__init__(name):    \n",
    "        self.name = name\n",
    "        \n",
    "    def pay_calc(self, base, bonus):\n",
    "        self.pay = base + bonus #급여 = 기본급 + 상여금 \n",
    "        print('총 수령액 : %d ' % (self.pay))\n",
    "        #print('총 수령액 : ', format(self.pay, ' 3,d'), '원')\n",
    "    \n",
    "# (3) 자식클래스 : 임시직\n",
    "class Temporary(Employee):\n",
    "    def __init__(self, name):\n",
    "        #super().__init__(name) #부모 생성자 호출\n",
    "        self.name = name\n",
    "        \n",
    "    def pay_calc(self, tpay, time):\n",
    "        self.pay = tpay * time # 급여 = 시급 * 작업시간\n",
    "        print('총 수령액 : %d ' % (self.pay))\n",
    "        #print(f'총 수령액 : ', format(self.pay, '3,d'), '원')\n",
    "        \n",
    "# (4) 객체 생성\n",
    "\n",
    "p = Permanent('이순신') #참조변수 * 메소드 \n",
    "p.pay_calc(3000000, 200000)\n",
    "\n",
    "t = Temporary('홍길동') #참조변수 * 메소드\n",
    "t.pay_calc(15000, 80)"
   ]
  },
  {
   "cell_type": "code",
   "execution_count": 49,
   "metadata": {},
   "outputs": [
    {
     "name": "stdout",
     "output_type": "stream",
     "text": [
      "총 수령액 : 3200000 \n",
      "총 수령액 : 1200000 \n",
      "총 수령액 : 3360000\n"
     ]
    }
   ],
   "source": [
    "# (1) 부모클래스\n",
    "class Employee:\n",
    "    name = None\n",
    "    pay = 0\n",
    "    \n",
    "    def __init__(self, name):\n",
    "        self.name = name\n",
    "        \n",
    "    def pay_calc(self):\n",
    "        pass\n",
    "# (2) 자식클래스 : 정규직\n",
    "class Permanent (Employee):\n",
    "    def __init__(self, name):\n",
    "        #super().__init__(name):    \n",
    "        self.name = name\n",
    "        \n",
    "    def pay_calc(self, base, bonus):\n",
    "        self.pay = base + bonus #급여 = 기본급 + 상여금 \n",
    "        print('총 수령액 : %d ' % (self.pay))\n",
    "        #print('총 수령액 : ', format(self.pay, ' 3,d'), '원')\n",
    "    \n",
    "# (3) 자식클래스 : 임시직\n",
    "class Temporary(Employee):\n",
    "    def __init__(self, name):\n",
    "        #super().__init__(name) #부모 생성자 호출\n",
    "        self.name = name\n",
    "        \n",
    "    def pay_calc(self, tpay, time):\n",
    "        self.pay = tpay * time # 급여 = 시급 * 작업시간\n",
    "        print('총 수령액 : %d ' % (self.pay))\n",
    "        #print(f'총 수령액 : ', format(self.pay, '3,d'), '원')\n",
    "        \n",
    "class Alba(Temporary):\n",
    "    def __init__(self, name):\n",
    "        self.name = name\n",
    "    \n",
    "    def pay_calc(self, tpay, time):\n",
    "        self.pay = tpay * time\n",
    "        if time >= 160:\n",
    "            self.pay = tpay * time + 8 * tpay\n",
    "        else:\n",
    "            self.pay = tpay * time\n",
    "        \n",
    "        print('총 수령액 : %d' % (self.pay))\n",
    "        \n",
    "# (4) 객체 생성\n",
    "\n",
    "p = Permanent('이순신') #참조변수 * 메소드 \n",
    "p.pay_calc(3000000, 200000)\n",
    "\n",
    "t = Temporary('홍길동') #참조변수 * 메소드\n",
    "t.pay_calc(15000, 80)\n",
    "\n",
    "a = Alba('김형경')\n",
    "a.pay_calc(20000, 160)"
   ]
  }
 ],
 "metadata": {
  "kernelspec": {
   "display_name": "rollbackTarget",
   "language": "python",
   "name": "conda"
  },
  "language_info": {
   "codemirror_mode": {
    "name": "ipython",
    "version": 3
   },
   "file_extension": ".py",
   "mimetype": "text/x-python",
   "name": "python",
   "nbconvert_exporter": "python",
   "pygments_lexer": "ipython3",
   "version": "3.11.5"
  }
 },
 "nbformat": 4,
 "nbformat_minor": 2
}
