{
 "cells": [
  {
   "cell_type": "code",
   "execution_count": 9,
   "metadata": {},
   "outputs": [
    {
     "name": "stdout",
     "output_type": "stream",
     "text": [
      "나눗셈 :  나눗셈 연산은 0으로 나누기가 불가능합니다. 다시 입력하세요.\n",
      "제곱 :   1\n",
      "1999년 02월 02일에 출생할 남성입니다.\n"
     ]
    }
   ],
   "source": [
    "class Calc_class14:\n",
    "    x=y=0\n",
    "    \n",
    "    def __init__(self,a,b):\n",
    "        self.x=a \n",
    "        self.y=b\n",
    "        \n",
    "    def div(self):\n",
    "        if self.x == 0 or self.y == 0:\n",
    "            return '나눗셈 연산은 0으로 나누기가 불가능합니다. 다시 입력하세요.'\n",
    "        else:\n",
    "            return self.x / self.y\n",
    "        \n",
    "    def squ(self):\n",
    "        return self.x ** self.y\n",
    "    \n",
    "    @classmethod\n",
    "    def filter(cls, str): # str 매개변수에는 주민등록번호\n",
    "        print('19%s년 %s월 %s일에 출생할 %s입니다.'\n",
    "        % (str[:2], str[2:4], str[4:6], '남성' if int(str[7]) % 4 == 1 or int(str[7]) % 4 == 3 else '여성' ))\n",
    "        \n",
    "        \n",
    "    # 예 '990101-2024135' -> 이 정보를 이용하여 '1999년 01월 01에 출생한 여성입니다.'\n",
    "    # 라고 출력할 수 있도록 클래스 메소드의 본문을 작성.\n",
    "    \n",
    "g_num1 = int(input('숫자 입력 : '))\n",
    "g_num2 = int(input('숫자 입력 : '))\n",
    "g_jumin = input('주민번호입력 : ') #990101-2222222\n",
    "    \n",
    "obj = Calc_class14(g_num1, g_num2)\n",
    "print('나눗셈 : ', obj.div())\n",
    "\n",
    "print('제곱 :  ', obj.squ())\n",
    "\n",
    "Calc_class14.filter(g_jumin)\n",
    "    \n",
    "    "
   ]
  },
  {
   "cell_type": "code",
   "execution_count": null,
   "metadata": {},
   "outputs": [],
   "source": []
  }
 ],
 "metadata": {
  "kernelspec": {
   "display_name": "rollbackTarget",
   "language": "python",
   "name": "conda"
  },
  "language_info": {
   "codemirror_mode": {
    "name": "ipython",
    "version": 3
   },
   "file_extension": ".py",
   "mimetype": "text/x-python",
   "name": "python",
   "nbconvert_exporter": "python",
   "pygments_lexer": "ipython3",
   "version": "3.11.5"
  }
 },
 "nbformat": 4,
 "nbformat_minor": 2
}
