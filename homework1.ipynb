{
 "cells": [
  {
   "cell_type": "code",
   "execution_count": 2,
   "metadata": {},
   "outputs": [
    {
     "name": "stdout",
     "output_type": "stream",
     "text": [
      "plus = 30\n",
      "minus = -10\n",
      "********************************************************************************\n",
      "plus = 160\n",
      "minus = -20\n",
      "********************************************************************************\n",
      "plus = 150\n",
      "minus = 50\n",
      "1559927853520 1559927792336\n",
      "<class '__main__.calc_class'>\n"
     ]
    }
   ],
   "source": [
    "# (3) 클래스 정의( p: 지역변수, self.x, self.y: 전역변수 )\n",
    "# 함수가 클래스 안에 들어있기 때문에 메서드라고 부른다.\n",
    "# 클래스는 여러가지 멤버들의 집합소\n",
    "class calc_class :\n",
    "    #클래스 변수 : 자료저장\n",
    "    x = y = 0 \n",
    "    \n",
    "    # 생성자 : 객체 생성 + 멤버변수 초기화\n",
    "    def __init__(self, a, b):\n",
    "        self.x = a #10\n",
    "        self.y = b #20\n",
    "        \n",
    "    #클래스 함수\n",
    "    def plus(self):\n",
    "        p = self.x + self.y #변수 연산\n",
    "        return p\n",
    "    \n",
    "    #클래스 함수\n",
    "    def minus(self):\n",
    "        m = self.x - self.y #변수 연산\n",
    "        return m\n",
    "    \n",
    "# (4) 객체 생성\n",
    "obj = calc_class(10, 20) #참조변수\n",
    "obj03 = calc_class(70, 90)\n",
    "# (5) 멤버 호출\n",
    "print('plus =', obj.plus()) # plus = 30\n",
    "print('minus =', obj.minus()) # minus = -10\n",
    "\n",
    "print('*'*80)\n",
    "\n",
    "print('plus =', obj03.plus())\n",
    "print('minus =', obj03.minus())\n",
    "\n",
    "print('*'*80)\n",
    "\n",
    "obj2 = calc_class(100, 50) #객체생성2  \n",
    "print('plus =', obj2.plus())\n",
    "print('minus =', obj2.minus())\n",
    "\n",
    "print(id(obj), id(obj2))\n",
    "\n",
    "print(type(obj))"
   ]
  },
  {
   "cell_type": "code",
   "execution_count": 2,
   "metadata": {},
   "outputs": [
    {
     "name": "stdout",
     "output_type": "stream",
     "text": [
      "입력 값 : 5 홀수입니다.\n"
     ]
    }
   ],
   "source": [
    "def meoseum(num1):\n",
    "    return num1 % 2 ==0\n",
    "\n",
    "def manim():\n",
    "    num1 = int(input('수 입력: '))\n",
    "    \n",
    "    if meoseum(num1):\n",
    "        print(f'입력 값 : {num1} 짝수입니다.')\n",
    "    else:\n",
    "        print(f'입력 값 : {num1} 홀수입니다.')\n",
    "manim()"
   ]
  },
  {
   "cell_type": "code",
   "execution_count": 4,
   "metadata": {},
   "outputs": [
    {
     "name": "stdout",
     "output_type": "stream",
     "text": [
      "수 입력 : 6 \n",
      "3의 배수입니다. \n",
      "********************************************************************************\n",
      "수 입력: 5 \n",
      "5의 배수입니다. \n"
     ]
    }
   ],
   "source": [
    "def meoseum(num1):\n",
    "    return num1 % 3 == 0\n",
    "\n",
    "def manim():\n",
    "    num1 = int(input('수 입력: '))\n",
    "    \n",
    "    if meoseum(num1):\n",
    "        print(f'수 입력 : {num1} \\n3의 배수입니다. ')\n",
    "    else:\n",
    "        print(f'입력 값 : \\n{num1} 3의 배수가 아닙니다.')\n",
    "        \n",
    "manim()\n",
    "\n",
    "print('*'*80)\n",
    "\n",
    "def meoseum(num2):\n",
    "    return num2 % 5 == 0\n",
    "\n",
    "def manim():\n",
    "    num2 = int(input('수 입력: '))\n",
    "    \n",
    "    if meoseum(num2):\n",
    "        print(f'수 입력: {num2} \\n5의 배수입니다. ')\n",
    "    else:\n",
    "        print(f'입력 값 : \\n{num2} 5의 배수가 아닙니다. ')\n",
    "        \n",
    "manim()"
   ]
  }
 ],
 "metadata": {
  "kernelspec": {
   "display_name": "rollbackTarget",
   "language": "python",
   "name": "conda"
  },
  "language_info": {
   "codemirror_mode": {
    "name": "ipython",
    "version": 3
   },
   "file_extension": ".py",
   "mimetype": "text/x-python",
   "name": "python",
   "nbconvert_exporter": "python",
   "pygments_lexer": "ipython3",
   "version": "3.11.5"
  }
 },
 "nbformat": 4,
 "nbformat_minor": 2
}
